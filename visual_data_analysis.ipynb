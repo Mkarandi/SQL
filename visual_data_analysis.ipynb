{
 "cells": [
  {
   "cell_type": "markdown",
   "metadata": {},
   "source": [
    "# Visual Data Analysis of Fraudulent Transactions\n",
    "\n",
    "Your CFO has also requested detailed trends data on specific card holders. Use the starter notebook to query your database and generate visualizations that supply the requested information as follows, then add your visualizations and observations to your markdown report."
   ]
  },
  {
   "cell_type": "code",
   "execution_count": 10,
   "metadata": {},
   "outputs": [],
   "source": [
    "# Initial imports\n",
    "import pandas as pd\n",
    "import datetime\n",
    "import calendar\n",
    "import hvplot.pandas\n",
    "from sqlalchemy import create_engine"
   ]
  },
  {
   "cell_type": "code",
   "execution_count": 2,
   "metadata": {},
   "outputs": [],
   "source": [
    "# Create a connection to the database\n",
    "engine = create_engine(\"postgresql://postgres:postgres @localhost:5432/fraud-detection\")\n"
   ]
  },
  {
   "cell_type": "markdown",
   "metadata": {},
   "source": [
    "## Data Analysis Question 1\n",
    "\n",
    "The two most important customers of the firm may have been hacked. Verify if there are any fraudulent transactions in their history. For privacy reasons, you only know that their cardholder IDs are 2 and 18.\n",
    "\n",
    "* Using hvPlot, create a line plot representing the time series of transactions over the course of the year for each cardholder separately. \n",
    "\n",
    "* Next, to better compare their patterns, create a single line plot that containins both card holders' trend data.  \n",
    "\n",
    "* What difference do you observe between the consumption patterns? Does the difference suggest a fraudulent transaction? Explain your rationale in the markdown report."
   ]
  },
  {
   "cell_type": "code",
   "execution_count": 3,
   "metadata": {},
   "outputs": [
    {
     "data": {
      "text/html": [
       "<div>\n",
       "<style scoped>\n",
       "    .dataframe tbody tr th:only-of-type {\n",
       "        vertical-align: middle;\n",
       "    }\n",
       "\n",
       "    .dataframe tbody tr th {\n",
       "        vertical-align: top;\n",
       "    }\n",
       "\n",
       "    .dataframe thead th {\n",
       "        text-align: right;\n",
       "    }\n",
       "</style>\n",
       "<table border=\"1\" class=\"dataframe\">\n",
       "  <thead>\n",
       "    <tr style=\"text-align: right;\">\n",
       "      <th></th>\n",
       "      <th>cardholder_id</th>\n",
       "      <th>date</th>\n",
       "      <th>amount</th>\n",
       "    </tr>\n",
       "  </thead>\n",
       "  <tbody>\n",
       "    <tr>\n",
       "      <th>0</th>\n",
       "      <td>18</td>\n",
       "      <td>2018-01-01 23:15:10</td>\n",
       "      <td>2.95</td>\n",
       "    </tr>\n",
       "    <tr>\n",
       "      <th>1</th>\n",
       "      <td>18</td>\n",
       "      <td>2018-01-05 07:19:27</td>\n",
       "      <td>1.36</td>\n",
       "    </tr>\n",
       "    <tr>\n",
       "      <th>2</th>\n",
       "      <td>2</td>\n",
       "      <td>2018-01-06 02:16:41</td>\n",
       "      <td>1.33</td>\n",
       "    </tr>\n",
       "    <tr>\n",
       "      <th>3</th>\n",
       "      <td>2</td>\n",
       "      <td>2018-01-06 05:13:20</td>\n",
       "      <td>10.82</td>\n",
       "    </tr>\n",
       "    <tr>\n",
       "      <th>4</th>\n",
       "      <td>18</td>\n",
       "      <td>2018-01-07 01:10:54</td>\n",
       "      <td>175.00</td>\n",
       "    </tr>\n",
       "  </tbody>\n",
       "</table>\n",
       "</div>"
      ],
      "text/plain": [
       "   cardholder_id                date  amount\n",
       "0             18 2018-01-01 23:15:10    2.95\n",
       "1             18 2018-01-05 07:19:27    1.36\n",
       "2              2 2018-01-06 02:16:41    1.33\n",
       "3              2 2018-01-06 05:13:20   10.82\n",
       "4             18 2018-01-07 01:10:54  175.00"
      ]
     },
     "execution_count": 3,
     "metadata": {},
     "output_type": "execute_result"
    }
   ],
   "source": [
    "# loading data for card holder 2 and 18 from the database\n",
    "# Write the query\n",
    "\n",
    "query = \"\"\"\n",
    "SELECT card_holder.cardholder_id, transaction.date, transaction.amount\n",
    "FROM transaction\n",
    "JOIN credit_card ON transaction.card = credit_card.card \n",
    "JOIN card_holder ON credit_card.cardholder_id = card_holder.cardholder_id\n",
    "WHERE card_holder.cardholder_id  = '2' \n",
    "OR card_holder.cardholder_id  = '18'\n",
    "ORDER BY transaction.date;\n",
    "        \"\"\"\n",
    "# Create a DataFrame from the query result. HINT: Use pd.read_sql(query, engine)\n",
    "cardholder_id_2_18 = pd.read_sql(query, engine)\n",
    "cardholder_id_2_18.head()"
   ]
  },
  {
   "cell_type": "code",
   "execution_count": 4,
   "metadata": {},
   "outputs": [
    {
     "data": {},
     "metadata": {},
     "output_type": "display_data"
    },
    {
     "data": {
      "application/vnd.holoviews_exec.v0+json": "",
      "text/html": [
       "<div id='1002'>\n",
       "  <div class=\"bk-root\" id=\"651d9476-d76e-4d09-82b3-91cb7be7f15d\" data-root-id=\"1002\"></div>\n",
       "</div>\n",
       "<script type=\"application/javascript\">(function(root) {\n",
       "  function embed_document(root) {\n",
       "    var docs_json = {\"85231e03-71e4-4dd7-bc93-19dbda523966\":{\"defs\":[{\"extends\":null,\"module\":null,\"name\":\"ReactiveHTML1\",\"overrides\":[],\"properties\":[]},{\"extends\":null,\"module\":null,\"name\":\"FlexBox1\",\"overrides\":[],\"properties\":[{\"default\":\"flex-start\",\"kind\":null,\"name\":\"align_content\"},{\"default\":\"flex-start\",\"kind\":null,\"name\":\"align_items\"},{\"default\":\"row\",\"kind\":null,\"name\":\"flex_direction\"},{\"default\":\"wrap\",\"kind\":null,\"name\":\"flex_wrap\"},{\"default\":\"flex-start\",\"kind\":null,\"name\":\"justify_content\"}]},{\"extends\":null,\"module\":null,\"name\":\"GridStack1\",\"overrides\":[],\"properties\":[{\"default\":\"warn\",\"kind\":null,\"name\":\"mode\"},{\"default\":null,\"kind\":null,\"name\":\"ncols\"},{\"default\":null,\"kind\":null,\"name\":\"nrows\"},{\"default\":true,\"kind\":null,\"name\":\"allow_resize\"},{\"default\":true,\"kind\":null,\"name\":\"allow_drag\"},{\"default\":[],\"kind\":null,\"name\":\"state\"}]},{\"extends\":null,\"module\":null,\"name\":\"click1\",\"overrides\":[],\"properties\":[{\"default\":\"\",\"kind\":null,\"name\":\"terminal_output\"},{\"default\":\"\",\"kind\":null,\"name\":\"debug_name\"},{\"default\":0,\"kind\":null,\"name\":\"clears\"}]},{\"extends\":null,\"module\":null,\"name\":\"NotificationAreaBase1\",\"overrides\":[],\"properties\":[{\"default\":\"bottom-right\",\"kind\":null,\"name\":\"position\"},{\"default\":0,\"kind\":null,\"name\":\"_clear\"}]},{\"extends\":null,\"module\":null,\"name\":\"NotificationArea1\",\"overrides\":[],\"properties\":[{\"default\":[],\"kind\":null,\"name\":\"notifications\"},{\"default\":\"bottom-right\",\"kind\":null,\"name\":\"position\"},{\"default\":0,\"kind\":null,\"name\":\"_clear\"},{\"default\":[{\"background\":\"#ffc107\",\"icon\":{\"className\":\"fas fa-exclamation-triangle\",\"color\":\"white\",\"tagName\":\"i\"},\"type\":\"warning\"},{\"background\":\"#007bff\",\"icon\":{\"className\":\"fas fa-info-circle\",\"color\":\"white\",\"tagName\":\"i\"},\"type\":\"info\"}],\"kind\":null,\"name\":\"types\"}]},{\"extends\":null,\"module\":null,\"name\":\"Notification\",\"overrides\":[],\"properties\":[{\"default\":null,\"kind\":null,\"name\":\"background\"},{\"default\":3000,\"kind\":null,\"name\":\"duration\"},{\"default\":null,\"kind\":null,\"name\":\"icon\"},{\"default\":\"\",\"kind\":null,\"name\":\"message\"},{\"default\":null,\"kind\":null,\"name\":\"notification_type\"},{\"default\":false,\"kind\":null,\"name\":\"_destroyed\"}]},{\"extends\":null,\"module\":null,\"name\":\"TemplateActions1\",\"overrides\":[],\"properties\":[{\"default\":0,\"kind\":null,\"name\":\"open_modal\"},{\"default\":0,\"kind\":null,\"name\":\"close_modal\"}]},{\"extends\":null,\"module\":null,\"name\":\"MaterialTemplateActions1\",\"overrides\":[],\"properties\":[{\"default\":0,\"kind\":null,\"name\":\"open_modal\"},{\"default\":0,\"kind\":null,\"name\":\"close_modal\"}]}],\"roots\":{\"references\":[{\"attributes\":{},\"id\":\"1024\",\"type\":\"SaveTool\"},{\"attributes\":{},\"id\":\"1048\",\"type\":\"AllLabels\"},{\"attributes\":{},\"id\":\"1025\",\"type\":\"PanTool\"},{\"attributes\":{},\"id\":\"1026\",\"type\":\"WheelZoomTool\"},{\"attributes\":{},\"id\":\"1014\",\"type\":\"LinearScale\"},{\"attributes\":{\"overlay\":{\"id\":\"1029\"}},\"id\":\"1027\",\"type\":\"BoxZoomTool\"},{\"attributes\":{\"tools\":[{\"id\":\"1006\"},{\"id\":\"1024\"},{\"id\":\"1025\"},{\"id\":\"1026\"},{\"id\":\"1027\"},{\"id\":\"1028\"}]},\"id\":\"1030\",\"type\":\"Toolbar\"},{\"attributes\":{},\"id\":\"1028\",\"type\":\"ResetTool\"},{\"attributes\":{\"bottom_units\":\"screen\",\"coordinates\":null,\"fill_alpha\":0.5,\"fill_color\":\"lightgrey\",\"group\":null,\"left_units\":\"screen\",\"level\":\"overlay\",\"line_alpha\":1.0,\"line_color\":\"black\",\"line_dash\":[4,4],\"line_width\":2,\"right_units\":\"screen\",\"syncable\":false,\"top_units\":\"screen\"},\"id\":\"1029\",\"type\":\"BoxAnnotation\"},{\"attributes\":{\"mantissas\":[1,2,5],\"max_interval\":500.0,\"num_minor_ticks\":0},\"id\":\"1062\",\"type\":\"AdaptiveTicker\"},{\"attributes\":{\"base\":60,\"mantissas\":[1,2,5,10,15,20,30],\"max_interval\":1800000.0,\"min_interval\":1000.0,\"num_minor_ticks\":0},\"id\":\"1063\",\"type\":\"AdaptiveTicker\"},{\"attributes\":{},\"id\":\"1012\",\"type\":\"LinearScale\"},{\"attributes\":{\"coordinates\":null,\"data_source\":{\"id\":\"1037\"},\"glyph\":{\"id\":\"1040\"},\"group\":null,\"hover_glyph\":null,\"muted_glyph\":{\"id\":\"1042\"},\"nonselection_glyph\":{\"id\":\"1041\"},\"selection_glyph\":{\"id\":\"1045\"},\"view\":{\"id\":\"1044\"}},\"id\":\"1043\",\"type\":\"GlyphRenderer\"},{\"attributes\":{},\"id\":\"1051\",\"type\":\"AllLabels\"},{\"attributes\":{\"months\":[0,2,4,6,8,10]},\"id\":\"1070\",\"type\":\"MonthsTicker\"},{\"attributes\":{\"days\":[1,2,3,4,5,6,7,8,9,10,11,12,13,14,15,16,17,18,19,20,21,22,23,24,25,26,27,28,29,30,31]},\"id\":\"1065\",\"type\":\"DaysTicker\"},{\"attributes\":{},\"id\":\"1050\",\"type\":\"BasicTickFormatter\"},{\"attributes\":{\"base\":24,\"mantissas\":[1,2,4,6,8,12],\"max_interval\":43200000.0,\"min_interval\":3600000.0,\"num_minor_ticks\":0},\"id\":\"1064\",\"type\":\"AdaptiveTicker\"},{\"attributes\":{\"children\":[{\"id\":\"1003\"},{\"id\":\"1007\"},{\"id\":\"1074\"}],\"margin\":[0,0,0,0],\"name\":\"Row00861\",\"tags\":[\"embedded\"]},\"id\":\"1002\",\"type\":\"Row\"},{\"attributes\":{},\"id\":\"1073\",\"type\":\"YearsTicker\"},{\"attributes\":{\"margin\":[5,5,5,5],\"name\":\"HSpacer00865\",\"sizing_mode\":\"stretch_width\"},\"id\":\"1003\",\"type\":\"Spacer\"},{\"attributes\":{\"months\":[0,1,2,3,4,5,6,7,8,9,10,11]},\"id\":\"1069\",\"type\":\"MonthsTicker\"},{\"attributes\":{\"days\":[1,4,7,10,13,16,19,22,25,28]},\"id\":\"1066\",\"type\":\"DaysTicker\"},{\"attributes\":{},\"id\":\"1059\",\"type\":\"UnionRenderers\"},{\"attributes\":{\"end\":1532263033000.0,\"reset_end\":1532263033000.0,\"reset_start\":1515205001000.0,\"start\":1515205001000.0,\"tags\":[[[\"date\",\"date\",null]]]},\"id\":\"1004\",\"type\":\"Range1d\"},{\"attributes\":{\"days\":[1,15]},\"id\":\"1068\",\"type\":\"DaysTicker\"},{\"attributes\":{\"months\":[0,6]},\"id\":\"1072\",\"type\":\"MonthsTicker\"},{\"attributes\":{\"end\":20.72,\"reset_end\":20.72,\"reset_start\":-1.12,\"start\":-1.12,\"tags\":[[[\"amount\",\"amount\",null]]]},\"id\":\"1005\",\"type\":\"Range1d\"},{\"attributes\":{\"days\":[1,8,15,22]},\"id\":\"1067\",\"type\":\"DaysTicker\"},{\"attributes\":{\"axis_label\":\"amount\",\"coordinates\":null,\"formatter\":{\"id\":\"1050\"},\"group\":null,\"major_label_policy\":{\"id\":\"1051\"},\"ticker\":{\"id\":\"1021\"}},\"id\":\"1020\",\"type\":\"LinearAxis\"},{\"attributes\":{\"below\":[{\"id\":\"1016\"}],\"center\":[{\"id\":\"1019\"},{\"id\":\"1023\"}],\"height\":400,\"left\":[{\"id\":\"1020\"}],\"margin\":[5,5,5,5],\"min_border_bottom\":10,\"min_border_left\":10,\"min_border_right\":10,\"min_border_top\":10,\"renderers\":[{\"id\":\"1043\"}],\"sizing_mode\":\"fixed\",\"title\":{\"id\":\"1008\"},\"toolbar\":{\"id\":\"1030\"},\"width\":700,\"x_range\":{\"id\":\"1004\"},\"x_scale\":{\"id\":\"1012\"},\"y_range\":{\"id\":\"1005\"},\"y_scale\":{\"id\":\"1014\"}},\"id\":\"1007\",\"subtype\":\"Figure\",\"type\":\"Plot\"},{\"attributes\":{\"months\":[0,4,8]},\"id\":\"1071\",\"type\":\"MonthsTicker\"},{\"attributes\":{\"margin\":[5,5,5,5],\"name\":\"HSpacer00866\",\"sizing_mode\":\"stretch_width\"},\"id\":\"1074\",\"type\":\"Spacer\"},{\"attributes\":{},\"id\":\"1038\",\"type\":\"Selection\"},{\"attributes\":{},\"id\":\"1047\",\"type\":\"DatetimeTickFormatter\"},{\"attributes\":{\"line_color\":\"#30a2da\",\"line_width\":2,\"x\":{\"field\":\"date\"},\"y\":{\"field\":\"amount\"}},\"id\":\"1040\",\"type\":\"Line\"},{\"attributes\":{\"callback\":null,\"formatters\":{\"@{date}\":\"datetime\"},\"renderers\":[{\"id\":\"1043\"}],\"tags\":[\"hv_created\"],\"tooltips\":[[\"date\",\"@{date}{%F %T}\"],[\"amount\",\"@{amount}\"]]},\"id\":\"1006\",\"type\":\"HoverTool\"},{\"attributes\":{\"line_alpha\":0.1,\"line_color\":\"#30a2da\",\"line_width\":2,\"x\":{\"field\":\"date\"},\"y\":{\"field\":\"amount\"}},\"id\":\"1041\",\"type\":\"Line\"},{\"attributes\":{\"line_color\":\"#30a2da\",\"line_width\":2,\"x\":{\"field\":\"date\"},\"y\":{\"field\":\"amount\"}},\"id\":\"1045\",\"type\":\"Line\"},{\"attributes\":{\"coordinates\":null,\"group\":null,\"text\":\"Card Holder 2 Transactions\",\"text_color\":\"black\",\"text_font_size\":\"12pt\"},\"id\":\"1008\",\"type\":\"Title\"},{\"attributes\":{\"num_minor_ticks\":5,\"tickers\":[{\"id\":\"1062\"},{\"id\":\"1063\"},{\"id\":\"1064\"},{\"id\":\"1065\"},{\"id\":\"1066\"},{\"id\":\"1067\"},{\"id\":\"1068\"},{\"id\":\"1069\"},{\"id\":\"1070\"},{\"id\":\"1071\"},{\"id\":\"1072\"},{\"id\":\"1073\"}]},\"id\":\"1017\",\"type\":\"DatetimeTicker\"},{\"attributes\":{\"data\":{\"amount\":{\"__ndarray__\":\"SOF6FK5H9T+kcD0K16MlQArXo3A9SjFAUrgehevRJUCkcD0K16MxQClcj8L1KCdAcT0K16PwJEBI4XoUrscmQI/C9Shcj/Y/UrgehetRMkBI4XoUrscuQNejcD0K1xtAKVyPwvUo8D+F61G4HoUyQI/C9ShcDzFAZmZmZmZmEECPwvUoXA8rQIXrUbgehRBAKVyPwvUoJEBSuB6F61EOQHsUrkfhei5AcT0K16NwJkDNzMzMzEwkQD0K16NwPfo/SOF6FK5HG0AfhetRuJ4yQEjhehSuR/E/AAAAAAAAGkCF61G4HoUmQOxRuB6FayRAhetRuB6FJEAfhetRuJ4kQGZmZmZmZuY/MzMzMzMzGkC4HoXrUTgoQFK4HoXr0SVAXI/C9ShcC0BmZmZmZuYyQHsUrkfhegpACtejcD0K8z8pXI/C9Sj8P+xRuB6F6y9Aj8L1KFwPKkB7FK5H4XosQGZmZmZm5i9A9ihcj8L1MEDNzMzMzEwlQIXrUbgehRRASOF6FK5HKUC4HoXrUbj6PwAAAAAAQDFA16NwPQrXE0CuR+F6FC4kQIXrUbgehSRAH4XrUbgeE0BxPQrXo3ALQD0K16Nw/TBApHA9CtejHUAK16NwPQoJQClcj8L1qCRA\",\"dtype\":\"float64\",\"order\":\"little\",\"shape\":[60]},\"date\":{\"__ndarray__\":\"AIDyF5QMdkIAAJgzngx2QgCAK8QSDXZCAAA8nfgNdkIAgAmK2g92QgCA+dEAEXZCAIAF5iASdkIAgAPaIxN2QgCA04XNFXZCAAA1Qj0XdkIAgBx8VRd2QgCAjUMsHHZCAACI9/wcdkIAAILzZR12QgCAM1RtH3ZCAIBgiZcfdkIAgCrD8SB2QgCABIwXIXZCAACViEYhdkIAAN+0iSF2QgAAGUaGInZCAADQdqcjdkIAgLD3HyR2QgCAS4ZGJHZCAACtNdMkdkIAAMqfNSd2QgCA7/UQKHZCAIANrw8qdkIAgGlnUCp2QgAANqH/K3ZCAIAAuRQtdkIAAIQxxS12QgCAGQMrMXZCAACvqNMxdkIAAFFILDN2QgCAlSFcM3ZCAADKsHY0dkIAABIGTDV2QgCA3qZeNXZCAABu2p84dkIAACEGPjl2QgCAEwtcOnZCAABLWaA7dkIAgH7asTt2QgAATDIgPHZCAADncPo8dkIAACo0Zz12QgCApdnhP3ZCAAC/rytAdkIAgCB2RkF2QgCAuvBeQXZCAIB2GkBDdkIAgAmCPkV2QgAAUo+BRXZCAAAP3SBGdkIAADJQt0Z2QgCAhqrYRnZCAIC02FNHdkIAAGP4pUd2QgCAiuYfTHZC\",\"dtype\":\"float64\",\"order\":\"little\",\"shape\":[60]}},\"selected\":{\"id\":\"1038\"},\"selection_policy\":{\"id\":\"1059\"}},\"id\":\"1037\",\"type\":\"ColumnDataSource\"},{\"attributes\":{\"source\":{\"id\":\"1037\"}},\"id\":\"1044\",\"type\":\"CDSView\"},{\"attributes\":{\"axis\":{\"id\":\"1020\"},\"coordinates\":null,\"dimension\":1,\"grid_line_color\":null,\"group\":null,\"ticker\":null},\"id\":\"1023\",\"type\":\"Grid\"},{\"attributes\":{\"line_alpha\":0.2,\"line_color\":\"#30a2da\",\"line_width\":2,\"x\":{\"field\":\"date\"},\"y\":{\"field\":\"amount\"}},\"id\":\"1042\",\"type\":\"Line\"},{\"attributes\":{\"axis\":{\"id\":\"1016\"},\"coordinates\":null,\"grid_line_color\":null,\"group\":null,\"ticker\":null},\"id\":\"1019\",\"type\":\"Grid\"},{\"attributes\":{\"axis_label\":\"date\",\"coordinates\":null,\"formatter\":{\"id\":\"1047\"},\"group\":null,\"major_label_orientation\":1.5707963267948966,\"major_label_policy\":{\"id\":\"1048\"},\"ticker\":{\"id\":\"1017\"}},\"id\":\"1016\",\"type\":\"DatetimeAxis\"},{\"attributes\":{},\"id\":\"1021\",\"type\":\"BasicTicker\"}],\"root_ids\":[\"1002\"]},\"title\":\"Bokeh Application\",\"version\":\"2.4.3\"}};\n",
       "    var render_items = [{\"docid\":\"85231e03-71e4-4dd7-bc93-19dbda523966\",\"root_ids\":[\"1002\"],\"roots\":{\"1002\":\"651d9476-d76e-4d09-82b3-91cb7be7f15d\"}}];\n",
       "    root.Bokeh.embed.embed_items_notebook(docs_json, render_items);\n",
       "  }\n",
       "  if (root.Bokeh !== undefined && root.Bokeh.Panel !== undefined) {\n",
       "    embed_document(root);\n",
       "  } else {\n",
       "    var attempts = 0;\n",
       "    var timer = setInterval(function(root) {\n",
       "      if (root.Bokeh !== undefined && root.Bokeh.Panel !== undefined) {\n",
       "        clearInterval(timer);\n",
       "        embed_document(root);\n",
       "      } else if (document.readyState == \"complete\") {\n",
       "        attempts++;\n",
       "        if (attempts > 200) {\n",
       "          clearInterval(timer);\n",
       "          console.log(\"Bokeh: ERROR: Unable to run BokehJS code because BokehJS library is missing\");\n",
       "        }\n",
       "      }\n",
       "    }, 25, root)\n",
       "  }\n",
       "})(window);</script>"
      ],
      "text/plain": [
       ":Curve   [date]   (amount)"
      ]
     },
     "execution_count": 4,
     "metadata": {
      "application/vnd.holoviews_exec.v0+json": {
       "id": "1002"
      }
     },
     "output_type": "execute_result"
    }
   ],
   "source": [
    "# Plot for cardholder 2\n",
    "cardholder_id_2 = cardholder_id_2_18[cardholder_id_2_18['cardholder_id'] == 2]\n",
    "cardholder_id_2.head()\n",
    "cardholder_id_2_plot = cardholder_id_2.hvplot.line('date', 'amount', label = 'Card Holder 2 Transactions', height=400, width=700, rot = 90)\n",
    "cardholder_id_2_plot"
   ]
  },
  {
   "cell_type": "code",
   "execution_count": 5,
   "metadata": {},
   "outputs": [
    {
     "data": {},
     "metadata": {},
     "output_type": "display_data"
    },
    {
     "data": {
      "application/vnd.holoviews_exec.v0+json": "",
      "text/html": [
       "<div id='1186'>\n",
       "  <div class=\"bk-root\" id=\"55ed1bb1-0b46-4173-bbbf-93918bcaaffb\" data-root-id=\"1186\"></div>\n",
       "</div>\n",
       "<script type=\"application/javascript\">(function(root) {\n",
       "  function embed_document(root) {\n",
       "    var docs_json = {\"379e4a0f-de58-4ed6-ba9d-66fc01d6e27b\":{\"defs\":[{\"extends\":null,\"module\":null,\"name\":\"ReactiveHTML1\",\"overrides\":[],\"properties\":[]},{\"extends\":null,\"module\":null,\"name\":\"FlexBox1\",\"overrides\":[],\"properties\":[{\"default\":\"flex-start\",\"kind\":null,\"name\":\"align_content\"},{\"default\":\"flex-start\",\"kind\":null,\"name\":\"align_items\"},{\"default\":\"row\",\"kind\":null,\"name\":\"flex_direction\"},{\"default\":\"wrap\",\"kind\":null,\"name\":\"flex_wrap\"},{\"default\":\"flex-start\",\"kind\":null,\"name\":\"justify_content\"}]},{\"extends\":null,\"module\":null,\"name\":\"GridStack1\",\"overrides\":[],\"properties\":[{\"default\":\"warn\",\"kind\":null,\"name\":\"mode\"},{\"default\":null,\"kind\":null,\"name\":\"ncols\"},{\"default\":null,\"kind\":null,\"name\":\"nrows\"},{\"default\":true,\"kind\":null,\"name\":\"allow_resize\"},{\"default\":true,\"kind\":null,\"name\":\"allow_drag\"},{\"default\":[],\"kind\":null,\"name\":\"state\"}]},{\"extends\":null,\"module\":null,\"name\":\"click1\",\"overrides\":[],\"properties\":[{\"default\":\"\",\"kind\":null,\"name\":\"terminal_output\"},{\"default\":\"\",\"kind\":null,\"name\":\"debug_name\"},{\"default\":0,\"kind\":null,\"name\":\"clears\"}]},{\"extends\":null,\"module\":null,\"name\":\"NotificationAreaBase1\",\"overrides\":[],\"properties\":[{\"default\":\"bottom-right\",\"kind\":null,\"name\":\"position\"},{\"default\":0,\"kind\":null,\"name\":\"_clear\"}]},{\"extends\":null,\"module\":null,\"name\":\"NotificationArea1\",\"overrides\":[],\"properties\":[{\"default\":[],\"kind\":null,\"name\":\"notifications\"},{\"default\":\"bottom-right\",\"kind\":null,\"name\":\"position\"},{\"default\":0,\"kind\":null,\"name\":\"_clear\"},{\"default\":[{\"background\":\"#ffc107\",\"icon\":{\"className\":\"fas fa-exclamation-triangle\",\"color\":\"white\",\"tagName\":\"i\"},\"type\":\"warning\"},{\"background\":\"#007bff\",\"icon\":{\"className\":\"fas fa-info-circle\",\"color\":\"white\",\"tagName\":\"i\"},\"type\":\"info\"}],\"kind\":null,\"name\":\"types\"}]},{\"extends\":null,\"module\":null,\"name\":\"Notification\",\"overrides\":[],\"properties\":[{\"default\":null,\"kind\":null,\"name\":\"background\"},{\"default\":3000,\"kind\":null,\"name\":\"duration\"},{\"default\":null,\"kind\":null,\"name\":\"icon\"},{\"default\":\"\",\"kind\":null,\"name\":\"message\"},{\"default\":null,\"kind\":null,\"name\":\"notification_type\"},{\"default\":false,\"kind\":null,\"name\":\"_destroyed\"}]},{\"extends\":null,\"module\":null,\"name\":\"TemplateActions1\",\"overrides\":[],\"properties\":[{\"default\":0,\"kind\":null,\"name\":\"open_modal\"},{\"default\":0,\"kind\":null,\"name\":\"close_modal\"}]},{\"extends\":null,\"module\":null,\"name\":\"MaterialTemplateActions1\",\"overrides\":[],\"properties\":[{\"default\":0,\"kind\":null,\"name\":\"open_modal\"},{\"default\":0,\"kind\":null,\"name\":\"close_modal\"}]}],\"roots\":{\"references\":[{\"attributes\":{\"axis_label\":\"date\",\"coordinates\":null,\"formatter\":{\"id\":\"1231\"},\"group\":null,\"major_label_orientation\":1.5707963267948966,\"major_label_policy\":{\"id\":\"1232\"},\"ticker\":{\"id\":\"1201\"}},\"id\":\"1200\",\"type\":\"DatetimeAxis\"},{\"attributes\":{\"coordinates\":null,\"data_source\":{\"id\":\"1221\"},\"glyph\":{\"id\":\"1224\"},\"group\":null,\"hover_glyph\":null,\"muted_glyph\":{\"id\":\"1226\"},\"nonselection_glyph\":{\"id\":\"1225\"},\"selection_glyph\":{\"id\":\"1229\"},\"view\":{\"id\":\"1228\"}},\"id\":\"1227\",\"type\":\"GlyphRenderer\"},{\"attributes\":{},\"id\":\"1209\",\"type\":\"PanTool\"},{\"attributes\":{\"days\":[1,8,15,22]},\"id\":\"1251\",\"type\":\"DaysTicker\"},{\"attributes\":{\"margin\":[5,5,5,5],\"name\":\"HSpacer00971\",\"sizing_mode\":\"stretch_width\"},\"id\":\"1187\",\"type\":\"Spacer\"},{\"attributes\":{\"below\":[{\"id\":\"1200\"}],\"center\":[{\"id\":\"1203\"},{\"id\":\"1207\"}],\"height\":400,\"left\":[{\"id\":\"1204\"}],\"margin\":[5,5,5,5],\"min_border_bottom\":10,\"min_border_left\":10,\"min_border_right\":10,\"min_border_top\":10,\"renderers\":[{\"id\":\"1227\"}],\"sizing_mode\":\"fixed\",\"title\":{\"id\":\"1192\"},\"toolbar\":{\"id\":\"1214\"},\"width\":700,\"x_range\":{\"id\":\"1188\"},\"x_scale\":{\"id\":\"1196\"},\"y_range\":{\"id\":\"1189\"},\"y_scale\":{\"id\":\"1198\"}},\"id\":\"1191\",\"subtype\":\"Figure\",\"type\":\"Plot\"},{\"attributes\":{\"axis\":{\"id\":\"1200\"},\"coordinates\":null,\"grid_line_color\":null,\"group\":null,\"ticker\":null},\"id\":\"1203\",\"type\":\"Grid\"},{\"attributes\":{\"months\":[0,1,2,3,4,5,6,7,8,9,10,11]},\"id\":\"1253\",\"type\":\"MonthsTicker\"},{\"attributes\":{\"num_minor_ticks\":5,\"tickers\":[{\"id\":\"1246\"},{\"id\":\"1247\"},{\"id\":\"1248\"},{\"id\":\"1249\"},{\"id\":\"1250\"},{\"id\":\"1251\"},{\"id\":\"1252\"},{\"id\":\"1253\"},{\"id\":\"1254\"},{\"id\":\"1255\"},{\"id\":\"1256\"},{\"id\":\"1257\"}]},\"id\":\"1201\",\"type\":\"DatetimeTicker\"},{\"attributes\":{\"axis\":{\"id\":\"1204\"},\"coordinates\":null,\"dimension\":1,\"grid_line_color\":null,\"group\":null,\"ticker\":null},\"id\":\"1207\",\"type\":\"Grid\"},{\"attributes\":{\"margin\":[5,5,5,5],\"name\":\"HSpacer00972\",\"sizing_mode\":\"stretch_width\"},\"id\":\"1258\",\"type\":\"Spacer\"},{\"attributes\":{},\"id\":\"1205\",\"type\":\"BasicTicker\"},{\"attributes\":{},\"id\":\"1222\",\"type\":\"Selection\"},{\"attributes\":{\"data\":{\"amount\":{\"__ndarray__\":\"mpmZmZmZB0DD9Shcj8L1PwAAAAAA4GVAAAAAAADQdECamZmZmRknQGZmZmZmZgRA16NwPQpXKUCF61G4HoX7P4XrUbgehQtASOF6FK7HJEBcj8L1KFwVQIXrUbgehSVAexSuR+F6F0BmZmZmZqYyQNejcD0K1wVAXI/C9ShcMUDNzMzMzEwyQDMzMzMzMyhAAAAAAAC8nEB7FK5H4XoCQHE9Ctej8DFApHA9CtejJUDXo3A9CtcpQFyPwvUoXCRAPQrXo3C9JEDNzMzMzEwoQClcj8L1KBtA7FG4HoXrJEBxPQrXo3DtP6RwPQrXIzJAmpmZmZmZM0A9CtejcD0EQKRwPQrXowhA9ihcj8L1+D8AAAAAANSQQDMzMzMzMzVAH4XrUbgeNkD2KFyPwvX8PzMzMzMzszBA16NwPQrX/z+PwvUoXI8SQMP1KFyPwglAuB6F61E4M0AzMzMzM7MkQLgehetROCRAH4XrUbgeEkBSuB6F61H8P1yPwvUo3CxAFK5H4XqUJEAAAAAAAFicQOF6FK5H4QxAuB6F61G4JEDD9Shcj0IwQClcj8L1KDBAcT0K16Nw5T+PwvUoXI8nQHE9Ctej8CRAXI/C9Shc/z9mZmZmZuYsQHsUrkfhujFAMzMzMzMzK0CF61G4HoUTQAAAAAAAQF5AcT0K16NwIkDXo3A9ChcyQClcj8L1KCZAAAAAAABAXUAAAAAAAAAGQNejcD0K1/M/KVyPwvWoJUDD9Shcj8IPQAAAAAAAcI5ASOF6FK6HMUA=\",\"dtype\":\"float64\",\"order\":\"little\",\"shape\":[73]},\"date\":{\"__ndarray__\":\"AAADHkALdkIAgEEFUwx2QgAAE7riDHZCAAC8uVcNdkIAgENcdg12QgAAgpwGEHZCAIAtdDAQdkIAACtLShB2QgAAqwp0EHZCAIDs08UQdkIAAMaLdxF2QgCABdocE3ZCAACQQk8TdkIAgElT+hN2QgAAVsI6GXZCAADVqUwZdkIAgOfvgRp2QgCA/V3zGnZCAIDqDwQbdkIAAJGSoBt2QgCApfXSHnZCAIBGOMEfdkIAgB5t3B92QgAA1ccdIHZCAAAMJx4gdkIAgOXJlCB2QgCAR3MBIXZCAAAVdg8idkIAAP8czSN2QgCA1/oTJHZCAADOu9UldkIAgHuWMCd2QgCAiqSLJ3ZCAID2auUndkIAgKqAmCh2QgCA4VuQLXZCAAA9K24xdkIAAJlX3TR2QgAAHO8XNXZCAIApGBA2dkIAAD1qATd2QgAAmAV0N3ZCAIDU5Z05dkIAgAkhqzl2QgCA2kX2OXZCAIDrrTs6dkIAABbMfDp2QgAA7rE2O3ZCAACMJyc8dkIAAALnczx2QgAA3peWPHZCAADdWCE9dkIAgEaMdj52QgCAmRWLPnZCAAAzNHo/dkIAgH14FUB2QgAAUtEXQHZCAIBiliRCdkIAgEERhEJ2QgCA3P+aQnZCAIDeB+ZCdkIAgNW1J0N2QgCA23vmRHZCAIAmpDtFdkIAAJddfUV2QgAA6GMWRnZCAAC81gVHdkIAACBIIUd2QgAAItKAR3ZCAIBIR/pIdkIAgNiId0p2QgAA7vnKSnZCAIDO6tdLdkI=\",\"dtype\":\"float64\",\"order\":\"little\",\"shape\":[73]}},\"selected\":{\"id\":\"1222\"},\"selection_policy\":{\"id\":\"1243\"}},\"id\":\"1221\",\"type\":\"ColumnDataSource\"},{\"attributes\":{},\"id\":\"1210\",\"type\":\"WheelZoomTool\"},{\"attributes\":{},\"id\":\"1231\",\"type\":\"DatetimeTickFormatter\"},{\"attributes\":{\"line_color\":\"#30a2da\",\"line_width\":2,\"x\":{\"field\":\"date\"},\"y\":{\"field\":\"amount\"}},\"id\":\"1224\",\"type\":\"Line\"},{\"attributes\":{},\"id\":\"1208\",\"type\":\"SaveTool\"},{\"attributes\":{\"line_alpha\":0.1,\"line_color\":\"#30a2da\",\"line_width\":2,\"x\":{\"field\":\"date\"},\"y\":{\"field\":\"amount\"}},\"id\":\"1225\",\"type\":\"Line\"},{\"attributes\":{\"line_color\":\"#30a2da\",\"line_width\":2,\"x\":{\"field\":\"date\"},\"y\":{\"field\":\"amount\"}},\"id\":\"1229\",\"type\":\"Line\"},{\"attributes\":{\"overlay\":{\"id\":\"1213\"}},\"id\":\"1211\",\"type\":\"BoxZoomTool\"},{\"attributes\":{},\"id\":\"1212\",\"type\":\"ResetTool\"},{\"attributes\":{\"line_alpha\":0.2,\"line_color\":\"#30a2da\",\"line_width\":2,\"x\":{\"field\":\"date\"},\"y\":{\"field\":\"amount\"}},\"id\":\"1226\",\"type\":\"Line\"},{\"attributes\":{\"mantissas\":[1,2,5],\"max_interval\":500.0,\"num_minor_ticks\":0},\"id\":\"1246\",\"type\":\"AdaptiveTicker\"},{\"attributes\":{\"base\":60,\"mantissas\":[1,2,5,10,15,20,30],\"max_interval\":1800000.0,\"min_interval\":1000.0,\"num_minor_ticks\":0},\"id\":\"1247\",\"type\":\"AdaptiveTicker\"},{\"attributes\":{\"bottom_units\":\"screen\",\"coordinates\":null,\"fill_alpha\":0.5,\"fill_color\":\"lightgrey\",\"group\":null,\"left_units\":\"screen\",\"level\":\"overlay\",\"line_alpha\":1.0,\"line_color\":\"black\",\"line_dash\":[4,4],\"line_width\":2,\"right_units\":\"screen\",\"syncable\":false,\"top_units\":\"screen\"},\"id\":\"1213\",\"type\":\"BoxAnnotation\"},{\"attributes\":{\"source\":{\"id\":\"1221\"}},\"id\":\"1228\",\"type\":\"CDSView\"},{\"attributes\":{\"days\":[1,2,3,4,5,6,7,8,9,10,11,12,13,14,15,16,17,18,19,20,21,22,23,24,25,26,27,28,29,30,31]},\"id\":\"1249\",\"type\":\"DaysTicker\"},{\"attributes\":{\"base\":24,\"mantissas\":[1,2,4,6,8,12],\"max_interval\":43200000.0,\"min_interval\":3600000.0,\"num_minor_ticks\":0},\"id\":\"1248\",\"type\":\"AdaptiveTicker\"},{\"attributes\":{\"tools\":[{\"id\":\"1190\"},{\"id\":\"1208\"},{\"id\":\"1209\"},{\"id\":\"1210\"},{\"id\":\"1211\"},{\"id\":\"1212\"}]},\"id\":\"1214\",\"type\":\"Toolbar\"},{\"attributes\":{},\"id\":\"1234\",\"type\":\"BasicTickFormatter\"},{\"attributes\":{\"months\":[0,4,8]},\"id\":\"1255\",\"type\":\"MonthsTicker\"},{\"attributes\":{},\"id\":\"1257\",\"type\":\"YearsTicker\"},{\"attributes\":{\"months\":[0,2,4,6,8,10]},\"id\":\"1254\",\"type\":\"MonthsTicker\"},{\"attributes\":{\"months\":[0,6]},\"id\":\"1256\",\"type\":\"MonthsTicker\"},{\"attributes\":{},\"id\":\"1232\",\"type\":\"AllLabels\"},{\"attributes\":{\"end\":2022.833,\"reset_end\":2022.833,\"reset_start\":-183.163,\"start\":-183.163,\"tags\":[[[\"amount\",\"amount\",null]]]},\"id\":\"1189\",\"type\":\"Range1d\"},{\"attributes\":{},\"id\":\"1243\",\"type\":\"UnionRenderers\"},{\"attributes\":{\"end\":1532187553000.0,\"reset_end\":1532187553000.0,\"reset_start\":1514848510000.0,\"start\":1514848510000.0,\"tags\":[[[\"date\",\"date\",null]]]},\"id\":\"1188\",\"type\":\"Range1d\"},{\"attributes\":{\"axis_label\":\"amount\",\"coordinates\":null,\"formatter\":{\"id\":\"1234\"},\"group\":null,\"major_label_policy\":{\"id\":\"1235\"},\"ticker\":{\"id\":\"1205\"}},\"id\":\"1204\",\"type\":\"LinearAxis\"},{\"attributes\":{\"days\":[1,15]},\"id\":\"1252\",\"type\":\"DaysTicker\"},{\"attributes\":{\"children\":[{\"id\":\"1187\"},{\"id\":\"1191\"},{\"id\":\"1258\"}],\"margin\":[0,0,0,0],\"name\":\"Row00967\",\"tags\":[\"embedded\"]},\"id\":\"1186\",\"type\":\"Row\"},{\"attributes\":{},\"id\":\"1196\",\"type\":\"LinearScale\"},{\"attributes\":{\"days\":[1,4,7,10,13,16,19,22,25,28]},\"id\":\"1250\",\"type\":\"DaysTicker\"},{\"attributes\":{\"callback\":null,\"formatters\":{\"@{date}\":\"datetime\"},\"renderers\":[{\"id\":\"1227\"}],\"tags\":[\"hv_created\"],\"tooltips\":[[\"date\",\"@{date}{%F %T}\"],[\"amount\",\"@{amount}\"]]},\"id\":\"1190\",\"type\":\"HoverTool\"},{\"attributes\":{},\"id\":\"1235\",\"type\":\"AllLabels\"},{\"attributes\":{\"coordinates\":null,\"group\":null,\"text\":\"Card Holder 18 Transactions\",\"text_color\":\"black\",\"text_font_size\":\"12pt\"},\"id\":\"1192\",\"type\":\"Title\"},{\"attributes\":{},\"id\":\"1198\",\"type\":\"LinearScale\"}],\"root_ids\":[\"1186\"]},\"title\":\"Bokeh Application\",\"version\":\"2.4.3\"}};\n",
       "    var render_items = [{\"docid\":\"379e4a0f-de58-4ed6-ba9d-66fc01d6e27b\",\"root_ids\":[\"1186\"],\"roots\":{\"1186\":\"55ed1bb1-0b46-4173-bbbf-93918bcaaffb\"}}];\n",
       "    root.Bokeh.embed.embed_items_notebook(docs_json, render_items);\n",
       "  }\n",
       "  if (root.Bokeh !== undefined && root.Bokeh.Panel !== undefined) {\n",
       "    embed_document(root);\n",
       "  } else {\n",
       "    var attempts = 0;\n",
       "    var timer = setInterval(function(root) {\n",
       "      if (root.Bokeh !== undefined && root.Bokeh.Panel !== undefined) {\n",
       "        clearInterval(timer);\n",
       "        embed_document(root);\n",
       "      } else if (document.readyState == \"complete\") {\n",
       "        attempts++;\n",
       "        if (attempts > 200) {\n",
       "          clearInterval(timer);\n",
       "          console.log(\"Bokeh: ERROR: Unable to run BokehJS code because BokehJS library is missing\");\n",
       "        }\n",
       "      }\n",
       "    }, 25, root)\n",
       "  }\n",
       "})(window);</script>"
      ],
      "text/plain": [
       ":Curve   [date]   (amount)"
      ]
     },
     "execution_count": 5,
     "metadata": {
      "application/vnd.holoviews_exec.v0+json": {
       "id": "1186"
      }
     },
     "output_type": "execute_result"
    }
   ],
   "source": [
    "# Plot for cardholder 18\n",
    "cardholder_id_18 = cardholder_id_2_18[cardholder_id_2_18['cardholder_id'] == 18]\n",
    "cardholder_id_18.head()\n",
    "cardholder_id_18_plot = cardholder_id_18.hvplot.line('date', 'amount', label = ' Card Holder 18 Transactions', height=400, width=700, rot = 90)\n",
    "cardholder_id_18_plot"
   ]
  },
  {
   "cell_type": "code",
   "execution_count": 6,
   "metadata": {},
   "outputs": [
    {
     "data": {},
     "metadata": {},
     "output_type": "display_data"
    },
    {
     "data": {
      "application/vnd.holoviews_exec.v0+json": "",
      "text/html": [
       "<div id='1370'>\n",
       "  <div class=\"bk-root\" id=\"dc736ab6-31ff-482d-a271-1a2af7c79504\" data-root-id=\"1370\"></div>\n",
       "</div>\n",
       "<script type=\"application/javascript\">(function(root) {\n",
       "  function embed_document(root) {\n",
       "    var docs_json = {\"e65fcb2e-a4d1-4aeb-971a-938f31886045\":{\"defs\":[{\"extends\":null,\"module\":null,\"name\":\"ReactiveHTML1\",\"overrides\":[],\"properties\":[]},{\"extends\":null,\"module\":null,\"name\":\"FlexBox1\",\"overrides\":[],\"properties\":[{\"default\":\"flex-start\",\"kind\":null,\"name\":\"align_content\"},{\"default\":\"flex-start\",\"kind\":null,\"name\":\"align_items\"},{\"default\":\"row\",\"kind\":null,\"name\":\"flex_direction\"},{\"default\":\"wrap\",\"kind\":null,\"name\":\"flex_wrap\"},{\"default\":\"flex-start\",\"kind\":null,\"name\":\"justify_content\"}]},{\"extends\":null,\"module\":null,\"name\":\"GridStack1\",\"overrides\":[],\"properties\":[{\"default\":\"warn\",\"kind\":null,\"name\":\"mode\"},{\"default\":null,\"kind\":null,\"name\":\"ncols\"},{\"default\":null,\"kind\":null,\"name\":\"nrows\"},{\"default\":true,\"kind\":null,\"name\":\"allow_resize\"},{\"default\":true,\"kind\":null,\"name\":\"allow_drag\"},{\"default\":[],\"kind\":null,\"name\":\"state\"}]},{\"extends\":null,\"module\":null,\"name\":\"click1\",\"overrides\":[],\"properties\":[{\"default\":\"\",\"kind\":null,\"name\":\"terminal_output\"},{\"default\":\"\",\"kind\":null,\"name\":\"debug_name\"},{\"default\":0,\"kind\":null,\"name\":\"clears\"}]},{\"extends\":null,\"module\":null,\"name\":\"NotificationAreaBase1\",\"overrides\":[],\"properties\":[{\"default\":\"bottom-right\",\"kind\":null,\"name\":\"position\"},{\"default\":0,\"kind\":null,\"name\":\"_clear\"}]},{\"extends\":null,\"module\":null,\"name\":\"NotificationArea1\",\"overrides\":[],\"properties\":[{\"default\":[],\"kind\":null,\"name\":\"notifications\"},{\"default\":\"bottom-right\",\"kind\":null,\"name\":\"position\"},{\"default\":0,\"kind\":null,\"name\":\"_clear\"},{\"default\":[{\"background\":\"#ffc107\",\"icon\":{\"className\":\"fas fa-exclamation-triangle\",\"color\":\"white\",\"tagName\":\"i\"},\"type\":\"warning\"},{\"background\":\"#007bff\",\"icon\":{\"className\":\"fas fa-info-circle\",\"color\":\"white\",\"tagName\":\"i\"},\"type\":\"info\"}],\"kind\":null,\"name\":\"types\"}]},{\"extends\":null,\"module\":null,\"name\":\"Notification\",\"overrides\":[],\"properties\":[{\"default\":null,\"kind\":null,\"name\":\"background\"},{\"default\":3000,\"kind\":null,\"name\":\"duration\"},{\"default\":null,\"kind\":null,\"name\":\"icon\"},{\"default\":\"\",\"kind\":null,\"name\":\"message\"},{\"default\":null,\"kind\":null,\"name\":\"notification_type\"},{\"default\":false,\"kind\":null,\"name\":\"_destroyed\"}]},{\"extends\":null,\"module\":null,\"name\":\"TemplateActions1\",\"overrides\":[],\"properties\":[{\"default\":0,\"kind\":null,\"name\":\"open_modal\"},{\"default\":0,\"kind\":null,\"name\":\"close_modal\"}]},{\"extends\":null,\"module\":null,\"name\":\"MaterialTemplateActions1\",\"overrides\":[],\"properties\":[{\"default\":0,\"kind\":null,\"name\":\"open_modal\"},{\"default\":0,\"kind\":null,\"name\":\"close_modal\"}]}],\"roots\":{\"references\":[{\"attributes\":{\"source\":{\"id\":\"1412\"}},\"id\":\"1419\",\"type\":\"CDSView\"},{\"attributes\":{\"callback\":null,\"formatters\":{\"@{date}\":\"datetime\"},\"renderers\":[{\"id\":\"1418\"},{\"id\":\"1451\"}],\"tags\":[\"hv_created\"],\"tooltips\":[[\"date\",\"@{date}{%F %T}\"],[\"amount\",\"@{amount}\"]]},\"id\":\"1374\",\"type\":\"HoverTool\"},{\"attributes\":{\"label\":{\"value\":\"Card Holder 2 Transactions\"},\"renderers\":[{\"id\":\"1418\"}]},\"id\":\"1443\",\"type\":\"LegendItem\"},{\"attributes\":{},\"id\":\"1381\",\"type\":\"LinearScale\"},{\"attributes\":{\"axis_label\":\"amount\",\"coordinates\":null,\"formatter\":{\"id\":\"1410\"},\"group\":null,\"major_label_policy\":{\"id\":\"1411\"},\"ticker\":{\"id\":\"1390\"}},\"id\":\"1389\",\"type\":\"LinearAxis\"},{\"attributes\":{\"line_color\":\"#30a2da\",\"line_width\":2,\"x\":{\"field\":\"date\"},\"y\":{\"field\":\"amount\"}},\"id\":\"1444\",\"type\":\"Line\"},{\"attributes\":{\"coordinates\":null,\"group\":null,\"text_color\":\"black\",\"text_font_size\":\"12pt\"},\"id\":\"1377\",\"type\":\"Title\"},{\"attributes\":{\"end\":2022.833,\"reset_end\":2022.833,\"reset_start\":-183.163,\"start\":-183.163,\"tags\":[[[\"amount\",\"amount\",null]]]},\"id\":\"1373\",\"type\":\"Range1d\"},{\"attributes\":{\"axis_label\":\"date\",\"coordinates\":null,\"formatter\":{\"id\":\"1407\"},\"group\":null,\"major_label_orientation\":1.5707963267948966,\"major_label_policy\":{\"id\":\"1408\"},\"ticker\":{\"id\":\"1386\"}},\"id\":\"1385\",\"type\":\"DatetimeAxis\"},{\"attributes\":{\"num_minor_ticks\":5,\"tickers\":[{\"id\":\"1430\"},{\"id\":\"1431\"},{\"id\":\"1432\"},{\"id\":\"1433\"},{\"id\":\"1434\"},{\"id\":\"1435\"},{\"id\":\"1436\"},{\"id\":\"1437\"},{\"id\":\"1438\"},{\"id\":\"1439\"},{\"id\":\"1440\"},{\"id\":\"1441\"}]},\"id\":\"1386\",\"type\":\"DatetimeTicker\"},{\"attributes\":{\"line_alpha\":0.1,\"line_color\":\"#fc4f30\",\"line_width\":2,\"x\":{\"field\":\"date\"},\"y\":{\"field\":\"amount\"}},\"id\":\"1449\",\"type\":\"Line\"},{\"attributes\":{\"below\":[{\"id\":\"1385\"}],\"center\":[{\"id\":\"1388\"},{\"id\":\"1392\"},{\"id\":\"1442\"}],\"height\":400,\"left\":[{\"id\":\"1389\"}],\"margin\":[5,5,5,5],\"min_border_bottom\":10,\"min_border_left\":10,\"min_border_right\":10,\"min_border_top\":10,\"renderers\":[{\"id\":\"1418\"},{\"id\":\"1451\"}],\"sizing_mode\":\"fixed\",\"title\":{\"id\":\"1377\"},\"toolbar\":{\"id\":\"1399\"},\"width\":700,\"x_range\":{\"id\":\"1372\"},\"x_scale\":{\"id\":\"1381\"},\"y_range\":{\"id\":\"1373\"},\"y_scale\":{\"id\":\"1383\"}},\"id\":\"1376\",\"subtype\":\"Figure\",\"type\":\"Plot\"},{\"attributes\":{},\"id\":\"1446\",\"type\":\"Selection\"},{\"attributes\":{\"axis\":{\"id\":\"1385\"},\"coordinates\":null,\"grid_line_color\":null,\"group\":null,\"ticker\":null},\"id\":\"1388\",\"type\":\"Grid\"},{\"attributes\":{\"line_color\":\"#fc4f30\",\"line_width\":2,\"x\":{\"field\":\"date\"},\"y\":{\"field\":\"amount\"}},\"id\":\"1448\",\"type\":\"Line\"},{\"attributes\":{\"line_alpha\":0.2,\"line_color\":\"#30a2da\",\"line_width\":2,\"x\":{\"field\":\"date\"},\"y\":{\"field\":\"amount\"}},\"id\":\"1417\",\"type\":\"Line\"},{\"attributes\":{},\"id\":\"1394\",\"type\":\"PanTool\"},{\"attributes\":{\"days\":[1,15]},\"id\":\"1436\",\"type\":\"DaysTicker\"},{\"attributes\":{\"data\":{\"amount\":{\"__ndarray__\":\"SOF6FK5H9T+kcD0K16MlQArXo3A9SjFAUrgehevRJUCkcD0K16MxQClcj8L1KCdAcT0K16PwJEBI4XoUrscmQI/C9Shcj/Y/UrgehetRMkBI4XoUrscuQNejcD0K1xtAKVyPwvUo8D+F61G4HoUyQI/C9ShcDzFAZmZmZmZmEECPwvUoXA8rQIXrUbgehRBAKVyPwvUoJEBSuB6F61EOQHsUrkfhei5AcT0K16NwJkDNzMzMzEwkQD0K16NwPfo/SOF6FK5HG0AfhetRuJ4yQEjhehSuR/E/AAAAAAAAGkCF61G4HoUmQOxRuB6FayRAhetRuB6FJEAfhetRuJ4kQGZmZmZmZuY/MzMzMzMzGkC4HoXrUTgoQFK4HoXr0SVAXI/C9ShcC0BmZmZmZuYyQHsUrkfhegpACtejcD0K8z8pXI/C9Sj8P+xRuB6F6y9Aj8L1KFwPKkB7FK5H4XosQGZmZmZm5i9A9ihcj8L1MEDNzMzMzEwlQIXrUbgehRRASOF6FK5HKUC4HoXrUbj6PwAAAAAAQDFA16NwPQrXE0CuR+F6FC4kQIXrUbgehSRAH4XrUbgeE0BxPQrXo3ALQD0K16Nw/TBApHA9CtejHUAK16NwPQoJQClcj8L1qCRA\",\"dtype\":\"float64\",\"order\":\"little\",\"shape\":[60]},\"date\":{\"__ndarray__\":\"AIDyF5QMdkIAAJgzngx2QgCAK8QSDXZCAAA8nfgNdkIAgAmK2g92QgCA+dEAEXZCAIAF5iASdkIAgAPaIxN2QgCA04XNFXZCAAA1Qj0XdkIAgBx8VRd2QgCAjUMsHHZCAACI9/wcdkIAAILzZR12QgCAM1RtH3ZCAIBgiZcfdkIAgCrD8SB2QgCABIwXIXZCAACViEYhdkIAAN+0iSF2QgAAGUaGInZCAADQdqcjdkIAgLD3HyR2QgCAS4ZGJHZCAACtNdMkdkIAAMqfNSd2QgCA7/UQKHZCAIANrw8qdkIAgGlnUCp2QgAANqH/K3ZCAIAAuRQtdkIAAIQxxS12QgCAGQMrMXZCAACvqNMxdkIAAFFILDN2QgCAlSFcM3ZCAADKsHY0dkIAABIGTDV2QgCA3qZeNXZCAABu2p84dkIAACEGPjl2QgCAEwtcOnZCAABLWaA7dkIAgH7asTt2QgAATDIgPHZCAADncPo8dkIAACo0Zz12QgCApdnhP3ZCAAC/rytAdkIAgCB2RkF2QgCAuvBeQXZCAIB2GkBDdkIAgAmCPkV2QgAAUo+BRXZCAAAP3SBGdkIAADJQt0Z2QgCAhqrYRnZCAIC02FNHdkIAAGP4pUd2QgCAiuYfTHZC\",\"dtype\":\"float64\",\"order\":\"little\",\"shape\":[60]}},\"selected\":{\"id\":\"1413\"},\"selection_policy\":{\"id\":\"1427\"}},\"id\":\"1412\",\"type\":\"ColumnDataSource\"},{\"attributes\":{\"axis\":{\"id\":\"1389\"},\"coordinates\":null,\"dimension\":1,\"grid_line_color\":null,\"group\":null,\"ticker\":null},\"id\":\"1392\",\"type\":\"Grid\"},{\"attributes\":{\"coordinates\":null,\"data_source\":{\"id\":\"1445\"},\"glyph\":{\"id\":\"1448\"},\"group\":null,\"hover_glyph\":null,\"muted_glyph\":{\"id\":\"1450\"},\"nonselection_glyph\":{\"id\":\"1449\"},\"selection_glyph\":{\"id\":\"1478\"},\"view\":{\"id\":\"1452\"}},\"id\":\"1451\",\"type\":\"GlyphRenderer\"},{\"attributes\":{},\"id\":\"1390\",\"type\":\"BasicTicker\"},{\"attributes\":{},\"id\":\"1407\",\"type\":\"DatetimeTickFormatter\"},{\"attributes\":{},\"id\":\"1395\",\"type\":\"WheelZoomTool\"},{\"attributes\":{\"line_alpha\":0.2,\"line_color\":\"#fc4f30\",\"line_width\":2,\"x\":{\"field\":\"date\"},\"y\":{\"field\":\"amount\"}},\"id\":\"1450\",\"type\":\"Line\"},{\"attributes\":{},\"id\":\"1408\",\"type\":\"AllLabels\"},{\"attributes\":{},\"id\":\"1410\",\"type\":\"BasicTickFormatter\"},{\"attributes\":{},\"id\":\"1393\",\"type\":\"SaveTool\"},{\"attributes\":{\"label\":{\"value\":\" Card Holder 18 Transactions\"},\"renderers\":[{\"id\":\"1451\"}]},\"id\":\"1477\",\"type\":\"LegendItem\"},{\"attributes\":{\"source\":{\"id\":\"1445\"}},\"id\":\"1452\",\"type\":\"CDSView\"},{\"attributes\":{\"mantissas\":[1,2,5],\"max_interval\":500.0,\"num_minor_ticks\":0},\"id\":\"1430\",\"type\":\"AdaptiveTicker\"},{\"attributes\":{},\"id\":\"1383\",\"type\":\"LinearScale\"},{\"attributes\":{\"overlay\":{\"id\":\"1398\"}},\"id\":\"1396\",\"type\":\"BoxZoomTool\"},{\"attributes\":{\"base\":60,\"mantissas\":[1,2,5,10,15,20,30],\"max_interval\":1800000.0,\"min_interval\":1000.0,\"num_minor_ticks\":0},\"id\":\"1431\",\"type\":\"AdaptiveTicker\"},{\"attributes\":{\"days\":[1,2,3,4,5,6,7,8,9,10,11,12,13,14,15,16,17,18,19,20,21,22,23,24,25,26,27,28,29,30,31]},\"id\":\"1433\",\"type\":\"DaysTicker\"},{\"attributes\":{},\"id\":\"1397\",\"type\":\"ResetTool\"},{\"attributes\":{\"margin\":[5,5,5,5],\"name\":\"HSpacer00998\",\"sizing_mode\":\"stretch_width\"},\"id\":\"1371\",\"type\":\"Spacer\"},{\"attributes\":{\"base\":24,\"mantissas\":[1,2,4,6,8,12],\"max_interval\":43200000.0,\"min_interval\":3600000.0,\"num_minor_ticks\":0},\"id\":\"1432\",\"type\":\"AdaptiveTicker\"},{\"attributes\":{\"line_color\":\"#fc4f30\",\"line_width\":2,\"x\":{\"field\":\"date\"},\"y\":{\"field\":\"amount\"}},\"id\":\"1478\",\"type\":\"Line\"},{\"attributes\":{},\"id\":\"1411\",\"type\":\"AllLabels\"},{\"attributes\":{\"bottom_units\":\"screen\",\"coordinates\":null,\"fill_alpha\":0.5,\"fill_color\":\"lightgrey\",\"group\":null,\"left_units\":\"screen\",\"level\":\"overlay\",\"line_alpha\":1.0,\"line_color\":\"black\",\"line_dash\":[4,4],\"line_width\":2,\"right_units\":\"screen\",\"syncable\":false,\"top_units\":\"screen\"},\"id\":\"1398\",\"type\":\"BoxAnnotation\"},{\"attributes\":{\"children\":[{\"id\":\"1371\"},{\"id\":\"1376\"},{\"id\":\"1503\"}],\"margin\":[0,0,0,0],\"name\":\"Row00994\",\"tags\":[\"embedded\"]},\"id\":\"1370\",\"type\":\"Row\"},{\"attributes\":{\"tools\":[{\"id\":\"1374\"},{\"id\":\"1393\"},{\"id\":\"1394\"},{\"id\":\"1395\"},{\"id\":\"1396\"},{\"id\":\"1397\"}]},\"id\":\"1399\",\"type\":\"Toolbar\"},{\"attributes\":{},\"id\":\"1462\",\"type\":\"UnionRenderers\"},{\"attributes\":{\"days\":[1,4,7,10,13,16,19,22,25,28]},\"id\":\"1434\",\"type\":\"DaysTicker\"},{\"attributes\":{},\"id\":\"1413\",\"type\":\"Selection\"},{\"attributes\":{},\"id\":\"1441\",\"type\":\"YearsTicker\"},{\"attributes\":{\"margin\":[5,5,5,5],\"name\":\"HSpacer00999\",\"sizing_mode\":\"stretch_width\"},\"id\":\"1503\",\"type\":\"Spacer\"},{\"attributes\":{\"months\":[0,4,8]},\"id\":\"1439\",\"type\":\"MonthsTicker\"},{\"attributes\":{\"data\":{\"amount\":{\"__ndarray__\":\"mpmZmZmZB0DD9Shcj8L1PwAAAAAA4GVAAAAAAADQdECamZmZmRknQGZmZmZmZgRA16NwPQpXKUCF61G4HoX7P4XrUbgehQtASOF6FK7HJEBcj8L1KFwVQIXrUbgehSVAexSuR+F6F0BmZmZmZqYyQNejcD0K1wVAXI/C9ShcMUDNzMzMzEwyQDMzMzMzMyhAAAAAAAC8nEB7FK5H4XoCQHE9Ctej8DFApHA9CtejJUDXo3A9CtcpQFyPwvUoXCRAPQrXo3C9JEDNzMzMzEwoQClcj8L1KBtA7FG4HoXrJEBxPQrXo3DtP6RwPQrXIzJAmpmZmZmZM0A9CtejcD0EQKRwPQrXowhA9ihcj8L1+D8AAAAAANSQQDMzMzMzMzVAH4XrUbgeNkD2KFyPwvX8PzMzMzMzszBA16NwPQrX/z+PwvUoXI8SQMP1KFyPwglAuB6F61E4M0AzMzMzM7MkQLgehetROCRAH4XrUbgeEkBSuB6F61H8P1yPwvUo3CxAFK5H4XqUJEAAAAAAAFicQOF6FK5H4QxAuB6F61G4JEDD9Shcj0IwQClcj8L1KDBAcT0K16Nw5T+PwvUoXI8nQHE9Ctej8CRAXI/C9Shc/z9mZmZmZuYsQHsUrkfhujFAMzMzMzMzK0CF61G4HoUTQAAAAAAAQF5AcT0K16NwIkDXo3A9ChcyQClcj8L1KCZAAAAAAABAXUAAAAAAAAAGQNejcD0K1/M/KVyPwvWoJUDD9Shcj8IPQAAAAAAAcI5ASOF6FK6HMUA=\",\"dtype\":\"float64\",\"order\":\"little\",\"shape\":[73]},\"date\":{\"__ndarray__\":\"AAADHkALdkIAgEEFUwx2QgAAE7riDHZCAAC8uVcNdkIAgENcdg12QgAAgpwGEHZCAIAtdDAQdkIAACtLShB2QgAAqwp0EHZCAIDs08UQdkIAAMaLdxF2QgCABdocE3ZCAACQQk8TdkIAgElT+hN2QgAAVsI6GXZCAADVqUwZdkIAgOfvgRp2QgCA/V3zGnZCAIDqDwQbdkIAAJGSoBt2QgCApfXSHnZCAIBGOMEfdkIAgB5t3B92QgAA1ccdIHZCAAAMJx4gdkIAgOXJlCB2QgCAR3MBIXZCAAAVdg8idkIAAP8czSN2QgCA1/oTJHZCAADOu9UldkIAgHuWMCd2QgCAiqSLJ3ZCAID2auUndkIAgKqAmCh2QgCA4VuQLXZCAAA9K24xdkIAAJlX3TR2QgAAHO8XNXZCAIApGBA2dkIAAD1qATd2QgAAmAV0N3ZCAIDU5Z05dkIAgAkhqzl2QgCA2kX2OXZCAIDrrTs6dkIAABbMfDp2QgAA7rE2O3ZCAACMJyc8dkIAAALnczx2QgAA3peWPHZCAADdWCE9dkIAgEaMdj52QgCAmRWLPnZCAAAzNHo/dkIAgH14FUB2QgAAUtEXQHZCAIBiliRCdkIAgEERhEJ2QgCA3P+aQnZCAIDeB+ZCdkIAgNW1J0N2QgCA23vmRHZCAIAmpDtFdkIAAJddfUV2QgAA6GMWRnZCAAC81gVHdkIAACBIIUd2QgAAItKAR3ZCAIBIR/pIdkIAgNiId0p2QgAA7vnKSnZCAIDO6tdLdkI=\",\"dtype\":\"float64\",\"order\":\"little\",\"shape\":[73]}},\"selected\":{\"id\":\"1446\"},\"selection_policy\":{\"id\":\"1462\"}},\"id\":\"1445\",\"type\":\"ColumnDataSource\"},{\"attributes\":{\"line_color\":\"#30a2da\",\"line_width\":2,\"x\":{\"field\":\"date\"},\"y\":{\"field\":\"amount\"}},\"id\":\"1415\",\"type\":\"Line\"},{\"attributes\":{},\"id\":\"1427\",\"type\":\"UnionRenderers\"},{\"attributes\":{\"line_alpha\":0.1,\"line_color\":\"#30a2da\",\"line_width\":2,\"x\":{\"field\":\"date\"},\"y\":{\"field\":\"amount\"}},\"id\":\"1416\",\"type\":\"Line\"},{\"attributes\":{\"months\":[0,6]},\"id\":\"1440\",\"type\":\"MonthsTicker\"},{\"attributes\":{\"months\":[0,1,2,3,4,5,6,7,8,9,10,11]},\"id\":\"1437\",\"type\":\"MonthsTicker\"},{\"attributes\":{\"days\":[1,8,15,22]},\"id\":\"1435\",\"type\":\"DaysTicker\"},{\"attributes\":{\"end\":1532263033000.0,\"reset_end\":1532263033000.0,\"reset_start\":1514848510000.0,\"start\":1514848510000.0,\"tags\":[[[\"date\",\"date\",null]]]},\"id\":\"1372\",\"type\":\"Range1d\"},{\"attributes\":{\"coordinates\":null,\"data_source\":{\"id\":\"1412\"},\"glyph\":{\"id\":\"1415\"},\"group\":null,\"hover_glyph\":null,\"muted_glyph\":{\"id\":\"1417\"},\"nonselection_glyph\":{\"id\":\"1416\"},\"selection_glyph\":{\"id\":\"1444\"},\"view\":{\"id\":\"1419\"}},\"id\":\"1418\",\"type\":\"GlyphRenderer\"},{\"attributes\":{\"months\":[0,2,4,6,8,10]},\"id\":\"1438\",\"type\":\"MonthsTicker\"},{\"attributes\":{\"click_policy\":\"mute\",\"coordinates\":null,\"group\":null,\"items\":[{\"id\":\"1443\"},{\"id\":\"1477\"}]},\"id\":\"1442\",\"type\":\"Legend\"}],\"root_ids\":[\"1370\"]},\"title\":\"Bokeh Application\",\"version\":\"2.4.3\"}};\n",
       "    var render_items = [{\"docid\":\"e65fcb2e-a4d1-4aeb-971a-938f31886045\",\"root_ids\":[\"1370\"],\"roots\":{\"1370\":\"dc736ab6-31ff-482d-a271-1a2af7c79504\"}}];\n",
       "    root.Bokeh.embed.embed_items_notebook(docs_json, render_items);\n",
       "  }\n",
       "  if (root.Bokeh !== undefined && root.Bokeh.Panel !== undefined) {\n",
       "    embed_document(root);\n",
       "  } else {\n",
       "    var attempts = 0;\n",
       "    var timer = setInterval(function(root) {\n",
       "      if (root.Bokeh !== undefined && root.Bokeh.Panel !== undefined) {\n",
       "        clearInterval(timer);\n",
       "        embed_document(root);\n",
       "      } else if (document.readyState == \"complete\") {\n",
       "        attempts++;\n",
       "        if (attempts > 200) {\n",
       "          clearInterval(timer);\n",
       "          console.log(\"Bokeh: ERROR: Unable to run BokehJS code because BokehJS library is missing\");\n",
       "        }\n",
       "      }\n",
       "    }, 25, root)\n",
       "  }\n",
       "})(window);</script>"
      ],
      "text/plain": [
       ":Overlay\n",
       "   .Curve.Card_Holder_2_Transactions  :Curve   [date]   (amount)\n",
       "   .Curve.Card_Holder_18_Transactions :Curve   [date]   (amount)"
      ]
     },
     "execution_count": 6,
     "metadata": {
      "application/vnd.holoviews_exec.v0+json": {
       "id": "1370"
      }
     },
     "output_type": "execute_result"
    }
   ],
   "source": [
    "# Combined plot for card holders 2 and 18\n",
    "combined_plot = cardholder_id_2_plot * cardholder_id_18_plot\n",
    "combined_plot"
   ]
  },
  {
   "cell_type": "markdown",
   "metadata": {},
   "source": [
    "##### Conclusion to Data Analysis Question 1\n",
    "\n",
    "Having visualized the data, Card holder 2's spending patterns have been consistent while there are anomolous transactions on Card Holder 18 that break the holders spending patterns and would suggest fraudelent activity."
   ]
  },
  {
   "cell_type": "markdown",
   "metadata": {},
   "source": [
    "## Data Analysis Question 2\n",
    "\n",
    "The CEO of the biggest customer of the firm suspects that someone has used her corporate credit card without authorization in the first quarter of 2018 to pay quite expensive restaurant bills. Again, for privacy reasons, you know only that the cardholder ID in question is 25.\n",
    "\n",
    "* Using hvPlot, create a box plot, representing the expenditure data from January 2018 to June 2018 for cardholder ID 25.\n",
    "\n",
    "* Are there any outliers for cardholder ID 25? How many outliers are there per month?\n",
    "\n",
    "* Do you notice any anomalies? Describe your observations and conclusions in your markdown report."
   ]
  },
  {
   "cell_type": "code",
   "execution_count": 45,
   "metadata": {},
   "outputs": [
    {
     "name": "stdout",
     "output_type": "stream",
     "text": [
      "    month   amount\n",
      "63    6.0  1813.00\n",
      "64    6.0    16.61\n",
      "65    6.0    11.53\n",
      "66    6.0     5.24\n",
      "67    6.0     2.27\n"
     ]
    }
   ],
   "source": [
    "# loading data of daily transactions from jan to jun 2018 for card holder 25\n",
    "# Write the query\n",
    "#use extract function to get the month value from the timestamped date\n",
    "\n",
    "query = \"\"\"\n",
    "SELECT EXTRACT(month FROM transaction.date) AS month, transaction.amount\n",
    "FROM transaction\n",
    "JOIN credit_card ON transaction.card = credit_card.card\n",
    "JOIN card_holder ON credit_card.cardholder_id = card_holder.cardholder_id\n",
    "WHERE card_holder.cardholder_id = 25\n",
    "AND EXTRACT(month FROM transaction.date) <= 6\n",
    "ORDER BY EXTRACT(month FROM transaction.date);\n",
    "        \"\"\"\n",
    "# Create a DataFrame from the query result. HINT: Use pd.read_sql(query, engine)\n",
    "cardholder_id_25 = pd.read_sql(query, engine)\n",
    "cardholder_id_25.head()\n",
    "print(cardholder_id_25.tail())\n"
   ]
  },
  {
   "cell_type": "code",
   "execution_count": 46,
   "metadata": {},
   "outputs": [
    {
     "data": {
      "text/html": [
       "<div>\n",
       "<style scoped>\n",
       "    .dataframe tbody tr th:only-of-type {\n",
       "        vertical-align: middle;\n",
       "    }\n",
       "\n",
       "    .dataframe tbody tr th {\n",
       "        vertical-align: top;\n",
       "    }\n",
       "\n",
       "    .dataframe thead th {\n",
       "        text-align: right;\n",
       "    }\n",
       "</style>\n",
       "<table border=\"1\" class=\"dataframe\">\n",
       "  <thead>\n",
       "    <tr style=\"text-align: right;\">\n",
       "      <th></th>\n",
       "      <th>month</th>\n",
       "      <th>amount</th>\n",
       "    </tr>\n",
       "  </thead>\n",
       "  <tbody>\n",
       "    <tr>\n",
       "      <th>0</th>\n",
       "      <td>January</td>\n",
       "      <td>1.46</td>\n",
       "    </tr>\n",
       "    <tr>\n",
       "      <th>1</th>\n",
       "      <td>January</td>\n",
       "      <td>10.74</td>\n",
       "    </tr>\n",
       "    <tr>\n",
       "      <th>2</th>\n",
       "      <td>January</td>\n",
       "      <td>2.93</td>\n",
       "    </tr>\n",
       "    <tr>\n",
       "      <th>3</th>\n",
       "      <td>January</td>\n",
       "      <td>1.39</td>\n",
       "    </tr>\n",
       "    <tr>\n",
       "      <th>4</th>\n",
       "      <td>January</td>\n",
       "      <td>17.84</td>\n",
       "    </tr>\n",
       "  </tbody>\n",
       "</table>\n",
       "</div>"
      ],
      "text/plain": [
       "     month  amount\n",
       "0  January    1.46\n",
       "1  January   10.74\n",
       "2  January    2.93\n",
       "3  January    1.39\n",
       "4  January   17.84"
      ]
     },
     "execution_count": 46,
     "metadata": {},
     "output_type": "execute_result"
    }
   ],
   "source": [
    "# loop to change the numeric month to month names\n",
    "\n",
    "#month_name = calendar.month_name()\n",
    "for x in range(cardholder_id_25.shape[0]):\n",
    "    cardholder_id_25.iloc[x,0]  = calendar.month_name[int(cardholder_id_25.iloc[x,0])]\n",
    "\n",
    "cardholder_id_25.head()\n"
   ]
  },
  {
   "cell_type": "code",
   "execution_count": 47,
   "metadata": {},
   "outputs": [
    {
     "data": {},
     "metadata": {},
     "output_type": "display_data"
    },
    {
     "data": {
      "application/vnd.holoviews_exec.v0+json": "",
      "text/html": [
       "<div id='2875'>\n",
       "  <div class=\"bk-root\" id=\"7cf85590-64da-44ba-919c-e3f8a89ceedb\" data-root-id=\"2875\"></div>\n",
       "</div>\n",
       "<script type=\"application/javascript\">(function(root) {\n",
       "  function embed_document(root) {\n",
       "    var docs_json = {\"1384215f-7816-4fe7-9b21-bbf908c8b61e\":{\"defs\":[{\"extends\":null,\"module\":null,\"name\":\"ReactiveHTML1\",\"overrides\":[],\"properties\":[]},{\"extends\":null,\"module\":null,\"name\":\"FlexBox1\",\"overrides\":[],\"properties\":[{\"default\":\"flex-start\",\"kind\":null,\"name\":\"align_content\"},{\"default\":\"flex-start\",\"kind\":null,\"name\":\"align_items\"},{\"default\":\"row\",\"kind\":null,\"name\":\"flex_direction\"},{\"default\":\"wrap\",\"kind\":null,\"name\":\"flex_wrap\"},{\"default\":\"flex-start\",\"kind\":null,\"name\":\"justify_content\"}]},{\"extends\":null,\"module\":null,\"name\":\"GridStack1\",\"overrides\":[],\"properties\":[{\"default\":\"warn\",\"kind\":null,\"name\":\"mode\"},{\"default\":null,\"kind\":null,\"name\":\"ncols\"},{\"default\":null,\"kind\":null,\"name\":\"nrows\"},{\"default\":true,\"kind\":null,\"name\":\"allow_resize\"},{\"default\":true,\"kind\":null,\"name\":\"allow_drag\"},{\"default\":[],\"kind\":null,\"name\":\"state\"}]},{\"extends\":null,\"module\":null,\"name\":\"click1\",\"overrides\":[],\"properties\":[{\"default\":\"\",\"kind\":null,\"name\":\"terminal_output\"},{\"default\":\"\",\"kind\":null,\"name\":\"debug_name\"},{\"default\":0,\"kind\":null,\"name\":\"clears\"}]},{\"extends\":null,\"module\":null,\"name\":\"NotificationAreaBase1\",\"overrides\":[],\"properties\":[{\"default\":\"bottom-right\",\"kind\":null,\"name\":\"position\"},{\"default\":0,\"kind\":null,\"name\":\"_clear\"}]},{\"extends\":null,\"module\":null,\"name\":\"NotificationArea1\",\"overrides\":[],\"properties\":[{\"default\":[],\"kind\":null,\"name\":\"notifications\"},{\"default\":\"bottom-right\",\"kind\":null,\"name\":\"position\"},{\"default\":0,\"kind\":null,\"name\":\"_clear\"},{\"default\":[{\"background\":\"#ffc107\",\"icon\":{\"className\":\"fas fa-exclamation-triangle\",\"color\":\"white\",\"tagName\":\"i\"},\"type\":\"warning\"},{\"background\":\"#007bff\",\"icon\":{\"className\":\"fas fa-info-circle\",\"color\":\"white\",\"tagName\":\"i\"},\"type\":\"info\"}],\"kind\":null,\"name\":\"types\"}]},{\"extends\":null,\"module\":null,\"name\":\"Notification\",\"overrides\":[],\"properties\":[{\"default\":null,\"kind\":null,\"name\":\"background\"},{\"default\":3000,\"kind\":null,\"name\":\"duration\"},{\"default\":null,\"kind\":null,\"name\":\"icon\"},{\"default\":\"\",\"kind\":null,\"name\":\"message\"},{\"default\":null,\"kind\":null,\"name\":\"notification_type\"},{\"default\":false,\"kind\":null,\"name\":\"_destroyed\"}]},{\"extends\":null,\"module\":null,\"name\":\"TemplateActions1\",\"overrides\":[],\"properties\":[{\"default\":0,\"kind\":null,\"name\":\"open_modal\"},{\"default\":0,\"kind\":null,\"name\":\"close_modal\"}]},{\"extends\":null,\"module\":null,\"name\":\"MaterialTemplateActions1\",\"overrides\":[],\"properties\":[{\"default\":0,\"kind\":null,\"name\":\"open_modal\"},{\"default\":0,\"kind\":null,\"name\":\"close_modal\"}]}],\"roots\":{\"references\":[{\"attributes\":{},\"id\":\"2897\",\"type\":\"WheelZoomTool\"},{\"attributes\":{\"overlay\":{\"id\":\"2900\"}},\"id\":\"2898\",\"type\":\"BoxZoomTool\"},{\"attributes\":{},\"id\":\"2899\",\"type\":\"ResetTool\"},{\"attributes\":{\"bottom_units\":\"screen\",\"coordinates\":null,\"fill_alpha\":0.5,\"fill_color\":\"lightgrey\",\"group\":null,\"left_units\":\"screen\",\"level\":\"overlay\",\"line_alpha\":1.0,\"line_color\":\"black\",\"line_dash\":[4,4],\"line_width\":2,\"right_units\":\"screen\",\"syncable\":false,\"top_units\":\"screen\"},\"id\":\"2900\",\"type\":\"BoxAnnotation\"},{\"attributes\":{\"source\":{\"id\":\"2939\"}},\"id\":\"2945\",\"type\":\"CDSView\"},{\"attributes\":{\"angle\":{\"value\":0.0},\"fill_alpha\":{\"value\":1.0},\"fill_color\":{\"value\":\"black\"},\"hatch_alpha\":{\"value\":1.0},\"hatch_color\":{\"value\":\"black\"},\"hatch_scale\":{\"value\":12.0},\"hatch_weight\":{\"value\":1.0},\"line_alpha\":{\"value\":1.0},\"line_cap\":{\"value\":\"butt\"},\"line_color\":{\"value\":\"black\"},\"line_dash\":{\"value\":[]},\"line_dash_offset\":{\"value\":0},\"line_join\":{\"value\":\"bevel\"},\"line_width\":{\"value\":1},\"size\":{\"value\":4},\"x\":{\"field\":\"index\"},\"y\":{\"field\":\"amount\"}},\"id\":\"2914\",\"type\":\"Circle\"},{\"attributes\":{\"data\":{\"bottom\":{\"__ndarray__\":\"uB6F61G4BkBSuB6F61ETQDMzMzMzMyRApHA9CtdjJEDhehSuR+EXQClcj8L1aCdA\",\"dtype\":\"float64\",\"order\":\"little\",\"shape\":[6]},\"index\":[\"January\",\"February\",\"March\",\"April\",\"May\",\"June\"],\"top\":{\"__ndarray__\":\"rkfhehSu/D+kcD0K16P5PwrXo3A9CgdAAAAAAABAHUApXI/C9SgCQFK4HoXrkSRA\",\"dtype\":\"float64\",\"order\":\"little\",\"shape\":[6]}},\"selected\":{\"id\":\"3011\"},\"selection_policy\":{\"id\":\"3010\"}},\"id\":\"2977\",\"type\":\"ColumnDataSource\"},{\"attributes\":{\"data\":{\"amount\":{\"__ndarray__\":\"AAAAAABkkkAAAAAAANiUQAAAAAAAAFlAAAAAAACckEAAAAAAANBwQAAAAAAAWJBAAAAAAAAokkAAAAAAAGiHQAAAAAAAVJxA\",\"dtype\":\"float64\",\"order\":\"little\",\"shape\":[9]},\"index\":[\"January\",\"March\",\"April\",\"April\",\"April\",\"May\",\"June\",\"June\",\"June\"]},\"selected\":{\"id\":\"2962\"},\"selection_policy\":{\"id\":\"2961\"}},\"id\":\"2907\",\"type\":\"ColumnDataSource\"},{\"attributes\":{},\"id\":\"2963\",\"type\":\"UnionRenderers\"},{\"attributes\":{},\"id\":\"2957\",\"type\":\"AllLabels\"},{\"attributes\":{\"fill_alpha\":{\"value\":0.1},\"fill_color\":{\"value\":\"black\"},\"hatch_alpha\":{\"value\":0.1},\"line_alpha\":{\"value\":0.1},\"x\":{\"field\":\"index\"},\"y\":{\"field\":\"amount\"}},\"id\":\"2910\",\"type\":\"Circle\"},{\"attributes\":{},\"id\":\"2964\",\"type\":\"Selection\"},{\"attributes\":{\"x0\":{\"field\":\"x0\"},\"x1\":{\"field\":\"x1\"},\"y0\":{\"field\":\"y0\"},\"y1\":{\"field\":\"y1\"}},\"id\":\"2941\",\"type\":\"Segment\"},{\"attributes\":{\"line_alpha\":{\"value\":0.2},\"x0\":{\"field\":\"x0\"},\"x1\":{\"field\":\"x1\"},\"y0\":{\"field\":\"y0\"},\"y1\":{\"field\":\"y1\"}},\"id\":\"2919\",\"type\":\"Segment\"},{\"attributes\":{\"fill_color\":{\"value\":\"black\"},\"x\":{\"field\":\"index\"},\"y\":{\"field\":\"amount\"}},\"id\":\"2909\",\"type\":\"Circle\"},{\"attributes\":{\"bottom\":{\"field\":\"bottom\"},\"fill_alpha\":{\"value\":0.2},\"fill_color\":{\"value\":\"#30a2da\"},\"hatch_alpha\":{\"value\":0.2},\"line_alpha\":{\"value\":0.2},\"top\":{\"field\":\"top\"},\"width\":{\"value\":0.7},\"x\":{\"field\":\"index\"}},\"id\":\"2951\",\"type\":\"VBar\"},{\"attributes\":{\"bottom\":{\"field\":\"bottom\"},\"fill_alpha\":{\"value\":1.0},\"fill_color\":{\"value\":\"#30a2da\"},\"hatch_alpha\":{\"value\":1.0},\"hatch_color\":{\"value\":\"black\"},\"hatch_scale\":{\"value\":12.0},\"hatch_weight\":{\"value\":1.0},\"line_alpha\":{\"value\":1.0},\"line_cap\":{\"value\":\"butt\"},\"line_color\":{\"value\":\"black\"},\"line_dash\":{\"value\":[]},\"line_dash_offset\":{\"value\":0},\"line_join\":{\"value\":\"bevel\"},\"line_width\":{\"value\":1},\"top\":{\"field\":\"top\"},\"width\":{\"value\":0.7},\"x\":{\"field\":\"index\"}},\"id\":\"2984\",\"type\":\"VBar\"},{\"attributes\":{\"bottom\":{\"field\":\"bottom\"},\"fill_color\":{\"value\":\"#30a2da\"},\"top\":{\"field\":\"top\"},\"width\":{\"value\":0.7},\"x\":{\"field\":\"index\"}},\"id\":\"2949\",\"type\":\"VBar\"},{\"attributes\":{\"data\":{\"bottom\":{\"__ndarray__\":\"KVyPwvUoLUDXo3A9CpclQBSuR+F6lDBAHoXrUbjeMUDNzMzMzEwoQEjhehSuhzBA\",\"dtype\":\"float64\",\"order\":\"little\",\"shape\":[6]},\"index\":[\"January\",\"February\",\"March\",\"April\",\"May\",\"June\"],\"top\":{\"__ndarray__\":\"uB6F61G4BkBSuB6F61ETQDMzMzMzMyRApHA9CtdjJEDhehSuR+EXQClcj8L1aCdA\",\"dtype\":\"float64\",\"order\":\"little\",\"shape\":[6]}},\"selected\":{\"id\":\"2972\"},\"selection_policy\":{\"id\":\"2971\"}},\"id\":\"2947\",\"type\":\"ColumnDataSource\"},{\"attributes\":{},\"id\":\"2965\",\"type\":\"UnionRenderers\"},{\"attributes\":{},\"id\":\"2966\",\"type\":\"Selection\"},{\"attributes\":{\"x0\":{\"field\":\"x0\"},\"x1\":{\"field\":\"x1\"},\"y0\":{\"field\":\"y0\"},\"y1\":{\"field\":\"y1\"}},\"id\":\"2917\",\"type\":\"Segment\"},{\"attributes\":{\"children\":[{\"id\":\"2876\"},{\"id\":\"2879\"},{\"id\":\"3013\"}],\"margin\":[0,0,0,0],\"name\":\"Row02069\",\"tags\":[\"embedded\"]},\"id\":\"2875\",\"type\":\"Row\"},{\"attributes\":{\"line_alpha\":{\"value\":1.0},\"line_cap\":{\"value\":\"butt\"},\"line_color\":{\"value\":\"black\"},\"line_dash\":{\"value\":[]},\"line_dash_offset\":{\"value\":0},\"line_join\":{\"value\":\"bevel\"},\"line_width\":{\"value\":1},\"x0\":{\"field\":\"x0\"},\"x1\":{\"field\":\"x1\"},\"y0\":{\"field\":\"y0\"},\"y1\":{\"field\":\"y1\"}},\"id\":\"2946\",\"type\":\"Segment\"},{\"attributes\":{\"data\":{\"x0\":[[\"January\",-0.2],[\"February\",-0.2],[\"March\",-0.2],[\"April\",-0.2],[\"May\",-0.2],[\"June\",-0.2]],\"x1\":[[\"January\",0.2],[\"February\",0.2],[\"March\",0.2],[\"April\",0.2],[\"May\",0.2],[\"June\",0.2]],\"y0\":[17.84,16.7,21.04,20.03,12.15,16.61],\"y1\":[17.84,16.7,21.04,20.03,12.15,16.61]},\"selected\":{\"id\":\"2970\"},\"selection_policy\":{\"id\":\"2969\"}},\"id\":\"2939\",\"type\":\"ColumnDataSource\"},{\"attributes\":{\"tools\":[{\"id\":\"2895\"},{\"id\":\"2896\"},{\"id\":\"2897\"},{\"id\":\"2898\"},{\"id\":\"2899\"}]},\"id\":\"2901\",\"type\":\"Toolbar\"},{\"attributes\":{\"coordinates\":null,\"group\":null,\"items\":[]},\"id\":\"2974\",\"type\":\"Legend\"},{\"attributes\":{},\"id\":\"2967\",\"type\":\"UnionRenderers\"},{\"attributes\":{\"end\":1994.209,\"reset_end\":1994.209,\"reset_start\":-180.299,\"start\":-180.299,\"tags\":[[[\"amount\",\"amount\",null]]]},\"id\":\"2878\",\"type\":\"Range1d\"},{\"attributes\":{},\"id\":\"2892\",\"type\":\"BasicTicker\"},{\"attributes\":{\"data\":{\"x0\":[\"January\",\"February\",\"March\",\"April\",\"May\",\"June\"],\"x1\":[\"January\",\"February\",\"March\",\"April\",\"May\",\"June\"],\"y0\":{\"__ndarray__\":\"16NwPQrXMUAzMzMzM7MwQArXo3A9CjVASOF6FK4HNEDNzMzMzEwoQFyPwvUonDBA\",\"dtype\":\"float64\",\"order\":\"little\",\"shape\":[6]},\"y1\":{\"__ndarray__\":\"KVyPwvUoLUDXo3A9CpclQBSuR+F6lDBAHoXrUbjeMUDNzMzMzEwoQEjhehSuhzBA\",\"dtype\":\"float64\",\"order\":\"little\",\"shape\":[6]}},\"selected\":{\"id\":\"2964\"},\"selection_policy\":{\"id\":\"2963\"}},\"id\":\"2915\",\"type\":\"ColumnDataSource\"},{\"attributes\":{},\"id\":\"2968\",\"type\":\"Selection\"},{\"attributes\":{\"source\":{\"id\":\"2907\"}},\"id\":\"2913\",\"type\":\"CDSView\"},{\"attributes\":{},\"id\":\"2960\",\"type\":\"AllLabels\"},{\"attributes\":{\"source\":{\"id\":\"2931\"}},\"id\":\"2937\",\"type\":\"CDSView\"},{\"attributes\":{\"line_alpha\":{\"value\":0.1},\"x0\":{\"field\":\"x0\"},\"x1\":{\"field\":\"x1\"},\"y0\":{\"field\":\"y0\"},\"y1\":{\"field\":\"y1\"}},\"id\":\"2918\",\"type\":\"Segment\"},{\"attributes\":{\"bottom\":{\"field\":\"bottom\"},\"fill_alpha\":{\"value\":0.1},\"fill_color\":{\"value\":\"#30a2da\"},\"hatch_alpha\":{\"value\":0.1},\"line_alpha\":{\"value\":0.1},\"top\":{\"field\":\"top\"},\"width\":{\"value\":0.7},\"x\":{\"field\":\"index\"}},\"id\":\"2980\",\"type\":\"VBar\"},{\"attributes\":{\"line_alpha\":{\"value\":1.0},\"line_cap\":{\"value\":\"butt\"},\"line_color\":{\"value\":\"black\"},\"line_dash\":{\"value\":[]},\"line_dash_offset\":{\"value\":0},\"line_join\":{\"value\":\"bevel\"},\"line_width\":{\"value\":1},\"x0\":{\"field\":\"x0\"},\"x1\":{\"field\":\"x1\"},\"y0\":{\"field\":\"y0\"},\"y1\":{\"field\":\"y1\"}},\"id\":\"2930\",\"type\":\"Segment\"},{\"attributes\":{\"source\":{\"id\":\"2977\"}},\"id\":\"2983\",\"type\":\"CDSView\"},{\"attributes\":{\"coordinates\":null,\"data_source\":{\"id\":\"2915\"},\"glyph\":{\"id\":\"2917\"},\"group\":null,\"hover_glyph\":null,\"muted_glyph\":{\"id\":\"2919\"},\"nonselection_glyph\":{\"id\":\"2918\"},\"selection_glyph\":{\"id\":\"2922\"},\"view\":{\"id\":\"2921\"}},\"id\":\"2920\",\"type\":\"GlyphRenderer\"},{\"attributes\":{},\"id\":\"2886\",\"type\":\"LinearScale\"},{\"attributes\":{},\"id\":\"2895\",\"type\":\"SaveTool\"},{\"attributes\":{},\"id\":\"2959\",\"type\":\"CategoricalTickFormatter\"},{\"attributes\":{\"bottom\":{\"field\":\"bottom\"},\"fill_alpha\":{\"value\":0.2},\"fill_color\":{\"value\":\"#30a2da\"},\"hatch_alpha\":{\"value\":0.2},\"line_alpha\":{\"value\":0.2},\"top\":{\"field\":\"top\"},\"width\":{\"value\":0.7},\"x\":{\"field\":\"index\"}},\"id\":\"2981\",\"type\":\"VBar\"},{\"attributes\":{\"coordinates\":null,\"data_source\":{\"id\":\"2977\"},\"glyph\":{\"id\":\"2979\"},\"group\":null,\"hover_glyph\":null,\"muted_glyph\":{\"id\":\"2981\"},\"nonselection_glyph\":{\"id\":\"2980\"},\"selection_glyph\":{\"id\":\"2984\"},\"view\":{\"id\":\"2983\"}},\"id\":\"2982\",\"type\":\"GlyphRenderer\"},{\"attributes\":{},\"id\":\"2969\",\"type\":\"UnionRenderers\"},{\"attributes\":{\"data\":{\"x0\":[\"January\",\"February\",\"March\",\"April\",\"May\",\"June\"],\"x1\":[\"January\",\"February\",\"March\",\"April\",\"May\",\"June\"],\"y0\":{\"__ndarray__\":\"PQrXo3A99j8fhetRuB7tP2ZmZmZmZvo/9ihcj8L1BECamZmZmZnxP3sUrkfhevA/\",\"dtype\":\"float64\",\"order\":\"little\",\"shape\":[6]},\"y1\":{\"__ndarray__\":\"rkfhehSu/D+kcD0K16P5PwrXo3A9CgdAAAAAAABAHUApXI/C9SgCQFK4HoXrkSRA\",\"dtype\":\"float64\",\"order\":\"little\",\"shape\":[6]}},\"selected\":{\"id\":\"2966\"},\"selection_policy\":{\"id\":\"2965\"}},\"id\":\"2923\",\"type\":\"ColumnDataSource\"},{\"attributes\":{\"factors\":[\"January\",\"February\",\"March\",\"April\",\"May\",\"June\"],\"tags\":[[[\"month\",\"month\",null]]]},\"id\":\"2877\",\"type\":\"FactorRange\"},{\"attributes\":{\"line_alpha\":{\"value\":0.1},\"x0\":{\"field\":\"x0\"},\"x1\":{\"field\":\"x1\"},\"y0\":{\"field\":\"y0\"},\"y1\":{\"field\":\"y1\"}},\"id\":\"2926\",\"type\":\"Segment\"},{\"attributes\":{\"coordinates\":null,\"data_source\":{\"id\":\"2947\"},\"glyph\":{\"id\":\"2949\"},\"group\":null,\"hover_glyph\":null,\"muted_glyph\":{\"id\":\"2951\"},\"nonselection_glyph\":{\"id\":\"2950\"},\"selection_glyph\":{\"id\":\"2976\"},\"view\":{\"id\":\"2953\"}},\"id\":\"2952\",\"type\":\"GlyphRenderer\"},{\"attributes\":{},\"id\":\"2970\",\"type\":\"Selection\"},{\"attributes\":{\"line_alpha\":{\"value\":0.1},\"x0\":{\"field\":\"x0\"},\"x1\":{\"field\":\"x1\"},\"y0\":{\"field\":\"y0\"},\"y1\":{\"field\":\"y1\"}},\"id\":\"2934\",\"type\":\"Segment\"},{\"attributes\":{\"coordinates\":null,\"data_source\":{\"id\":\"2939\"},\"glyph\":{\"id\":\"2941\"},\"group\":null,\"hover_glyph\":null,\"muted_glyph\":{\"id\":\"2943\"},\"nonselection_glyph\":{\"id\":\"2942\"},\"selection_glyph\":{\"id\":\"2946\"},\"view\":{\"id\":\"2945\"}},\"id\":\"2944\",\"type\":\"GlyphRenderer\"},{\"attributes\":{},\"id\":\"2884\",\"type\":\"CategoricalScale\"},{\"attributes\":{\"coordinates\":null,\"group\":null,\"text\":\"Card Holder 25 Transactions January to June 2018\",\"text_color\":\"black\",\"text_font_size\":\"12pt\"},\"id\":\"2880\",\"type\":\"Title\"},{\"attributes\":{\"line_alpha\":{\"value\":0.1},\"x0\":{\"field\":\"x0\"},\"x1\":{\"field\":\"x1\"},\"y0\":{\"field\":\"y0\"},\"y1\":{\"field\":\"y1\"}},\"id\":\"2942\",\"type\":\"Segment\"},{\"attributes\":{},\"id\":\"2956\",\"type\":\"BasicTickFormatter\"},{\"attributes\":{\"margin\":[5,5,5,5],\"name\":\"HSpacer02073\",\"sizing_mode\":\"stretch_width\"},\"id\":\"2876\",\"type\":\"Spacer\"},{\"attributes\":{\"coordinates\":null,\"data_source\":{\"id\":\"2931\"},\"glyph\":{\"id\":\"2933\"},\"group\":null,\"hover_glyph\":null,\"muted_glyph\":{\"id\":\"2935\"},\"nonselection_glyph\":{\"id\":\"2934\"},\"selection_glyph\":{\"id\":\"2938\"},\"view\":{\"id\":\"2937\"}},\"id\":\"2936\",\"type\":\"GlyphRenderer\"},{\"attributes\":{\"source\":{\"id\":\"2923\"}},\"id\":\"2929\",\"type\":\"CDSView\"},{\"attributes\":{\"bottom\":{\"field\":\"bottom\"},\"fill_alpha\":{\"value\":0.1},\"fill_color\":{\"value\":\"#30a2da\"},\"hatch_alpha\":{\"value\":0.1},\"line_alpha\":{\"value\":0.1},\"top\":{\"field\":\"top\"},\"width\":{\"value\":0.7},\"x\":{\"field\":\"index\"}},\"id\":\"2950\",\"type\":\"VBar\"},{\"attributes\":{\"line_alpha\":{\"value\":0.2},\"x0\":{\"field\":\"x0\"},\"x1\":{\"field\":\"x1\"},\"y0\":{\"field\":\"y0\"},\"y1\":{\"field\":\"y1\"}},\"id\":\"2927\",\"type\":\"Segment\"},{\"attributes\":{\"source\":{\"id\":\"2947\"}},\"id\":\"2953\",\"type\":\"CDSView\"},{\"attributes\":{\"x0\":{\"field\":\"x0\"},\"x1\":{\"field\":\"x1\"},\"y0\":{\"field\":\"y0\"},\"y1\":{\"field\":\"y1\"}},\"id\":\"2925\",\"type\":\"Segment\"},{\"attributes\":{\"below\":[{\"id\":\"2888\"}],\"center\":[{\"id\":\"2890\"},{\"id\":\"2894\"},{\"id\":\"2974\"}],\"height\":400,\"left\":[{\"id\":\"2891\"}],\"margin\":[5,5,5,5],\"min_border_bottom\":10,\"min_border_left\":10,\"min_border_right\":10,\"min_border_top\":10,\"renderers\":[{\"id\":\"2912\"},{\"id\":\"2920\"},{\"id\":\"2928\"},{\"id\":\"2936\"},{\"id\":\"2944\"},{\"id\":\"2952\"},{\"id\":\"2982\"}],\"sizing_mode\":\"fixed\",\"title\":{\"id\":\"2880\"},\"toolbar\":{\"id\":\"2901\"},\"width\":700,\"x_range\":{\"id\":\"2877\"},\"x_scale\":{\"id\":\"2884\"},\"y_range\":{\"id\":\"2878\"},\"y_scale\":{\"id\":\"2886\"}},\"id\":\"2879\",\"subtype\":\"Figure\",\"type\":\"Plot\"},{\"attributes\":{\"x0\":{\"field\":\"x0\"},\"x1\":{\"field\":\"x1\"},\"y0\":{\"field\":\"y0\"},\"y1\":{\"field\":\"y1\"}},\"id\":\"2933\",\"type\":\"Segment\"},{\"attributes\":{\"coordinates\":null,\"data_source\":{\"id\":\"2907\"},\"glyph\":{\"id\":\"2909\"},\"group\":null,\"hover_glyph\":null,\"muted_glyph\":{\"id\":\"2911\"},\"nonselection_glyph\":{\"id\":\"2910\"},\"selection_glyph\":{\"id\":\"2914\"},\"view\":{\"id\":\"2913\"}},\"id\":\"2912\",\"type\":\"GlyphRenderer\"},{\"attributes\":{\"bottom\":{\"field\":\"bottom\"},\"fill_alpha\":{\"value\":1.0},\"fill_color\":{\"value\":\"#30a2da\"},\"hatch_alpha\":{\"value\":1.0},\"hatch_color\":{\"value\":\"black\"},\"hatch_scale\":{\"value\":12.0},\"hatch_weight\":{\"value\":1.0},\"line_alpha\":{\"value\":1.0},\"line_cap\":{\"value\":\"butt\"},\"line_color\":{\"value\":\"black\"},\"line_dash\":{\"value\":[]},\"line_dash_offset\":{\"value\":0},\"line_join\":{\"value\":\"bevel\"},\"line_width\":{\"value\":1},\"top\":{\"field\":\"top\"},\"width\":{\"value\":0.7},\"x\":{\"field\":\"index\"}},\"id\":\"2976\",\"type\":\"VBar\"},{\"attributes\":{\"fill_alpha\":{\"value\":0.2},\"fill_color\":{\"value\":\"black\"},\"hatch_alpha\":{\"value\":0.2},\"line_alpha\":{\"value\":0.2},\"x\":{\"field\":\"index\"},\"y\":{\"field\":\"amount\"}},\"id\":\"2911\",\"type\":\"Circle\"},{\"attributes\":{},\"id\":\"2971\",\"type\":\"UnionRenderers\"},{\"attributes\":{\"line_alpha\":{\"value\":0.2},\"x0\":{\"field\":\"x0\"},\"x1\":{\"field\":\"x1\"},\"y0\":{\"field\":\"y0\"},\"y1\":{\"field\":\"y1\"}},\"id\":\"2935\",\"type\":\"Segment\"},{\"attributes\":{\"data\":{\"x0\":[[\"January\",-0.2],[\"February\",-0.2],[\"March\",-0.2],[\"April\",-0.2],[\"May\",-0.2],[\"June\",-0.2]],\"x1\":[[\"January\",0.2],[\"February\",0.2],[\"March\",0.2],[\"April\",0.2],[\"May\",0.2],[\"June\",0.2]],\"y0\":[1.39,0.91,1.65,2.62,1.1,1.03],\"y1\":[1.39,0.91,1.65,2.62,1.1,1.03]},\"selected\":{\"id\":\"2968\"},\"selection_policy\":{\"id\":\"2967\"}},\"id\":\"2931\",\"type\":\"ColumnDataSource\"},{\"attributes\":{},\"id\":\"3011\",\"type\":\"Selection\"},{\"attributes\":{\"coordinates\":null,\"data_source\":{\"id\":\"2923\"},\"glyph\":{\"id\":\"2925\"},\"group\":null,\"hover_glyph\":null,\"muted_glyph\":{\"id\":\"2927\"},\"nonselection_glyph\":{\"id\":\"2926\"},\"selection_glyph\":{\"id\":\"2930\"},\"view\":{\"id\":\"2929\"}},\"id\":\"2928\",\"type\":\"GlyphRenderer\"},{\"attributes\":{},\"id\":\"3010\",\"type\":\"UnionRenderers\"},{\"attributes\":{},\"id\":\"2972\",\"type\":\"Selection\"},{\"attributes\":{\"axis_label\":\"month\",\"coordinates\":null,\"formatter\":{\"id\":\"2959\"},\"group\":null,\"major_label_policy\":{\"id\":\"2960\"},\"ticker\":{\"id\":\"2889\"}},\"id\":\"2888\",\"type\":\"CategoricalAxis\"},{\"attributes\":{\"bottom\":{\"field\":\"bottom\"},\"fill_color\":{\"value\":\"#30a2da\"},\"top\":{\"field\":\"top\"},\"width\":{\"value\":0.7},\"x\":{\"field\":\"index\"}},\"id\":\"2979\",\"type\":\"VBar\"},{\"attributes\":{\"axis\":{\"id\":\"2888\"},\"coordinates\":null,\"grid_line_color\":null,\"group\":null,\"ticker\":null},\"id\":\"2890\",\"type\":\"Grid\"},{\"attributes\":{\"line_alpha\":{\"value\":1.0},\"line_cap\":{\"value\":\"butt\"},\"line_color\":{\"value\":\"black\"},\"line_dash\":{\"value\":[]},\"line_dash_offset\":{\"value\":0},\"line_join\":{\"value\":\"bevel\"},\"line_width\":{\"value\":1},\"x0\":{\"field\":\"x0\"},\"x1\":{\"field\":\"x1\"},\"y0\":{\"field\":\"y0\"},\"y1\":{\"field\":\"y1\"}},\"id\":\"2922\",\"type\":\"Segment\"},{\"attributes\":{},\"id\":\"2889\",\"type\":\"CategoricalTicker\"},{\"attributes\":{},\"id\":\"2961\",\"type\":\"UnionRenderers\"},{\"attributes\":{},\"id\":\"2896\",\"type\":\"PanTool\"},{\"attributes\":{\"axis_label\":\"amount\",\"coordinates\":null,\"formatter\":{\"id\":\"2956\"},\"group\":null,\"major_label_policy\":{\"id\":\"2957\"},\"ticker\":{\"id\":\"2892\"}},\"id\":\"2891\",\"type\":\"LinearAxis\"},{\"attributes\":{\"line_alpha\":{\"value\":1.0},\"line_cap\":{\"value\":\"butt\"},\"line_color\":{\"value\":\"black\"},\"line_dash\":{\"value\":[]},\"line_dash_offset\":{\"value\":0},\"line_join\":{\"value\":\"bevel\"},\"line_width\":{\"value\":1},\"x0\":{\"field\":\"x0\"},\"x1\":{\"field\":\"x1\"},\"y0\":{\"field\":\"y0\"},\"y1\":{\"field\":\"y1\"}},\"id\":\"2938\",\"type\":\"Segment\"},{\"attributes\":{\"source\":{\"id\":\"2915\"}},\"id\":\"2921\",\"type\":\"CDSView\"},{\"attributes\":{\"axis\":{\"id\":\"2891\"},\"coordinates\":null,\"dimension\":1,\"grid_line_color\":null,\"group\":null,\"ticker\":null},\"id\":\"2894\",\"type\":\"Grid\"},{\"attributes\":{},\"id\":\"2962\",\"type\":\"Selection\"},{\"attributes\":{\"line_alpha\":{\"value\":0.2},\"x0\":{\"field\":\"x0\"},\"x1\":{\"field\":\"x1\"},\"y0\":{\"field\":\"y0\"},\"y1\":{\"field\":\"y1\"}},\"id\":\"2943\",\"type\":\"Segment\"},{\"attributes\":{\"margin\":[5,5,5,5],\"name\":\"HSpacer02074\",\"sizing_mode\":\"stretch_width\"},\"id\":\"3013\",\"type\":\"Spacer\"}],\"root_ids\":[\"2875\"]},\"title\":\"Bokeh Application\",\"version\":\"2.4.3\"}};\n",
       "    var render_items = [{\"docid\":\"1384215f-7816-4fe7-9b21-bbf908c8b61e\",\"root_ids\":[\"2875\"],\"roots\":{\"2875\":\"7cf85590-64da-44ba-919c-e3f8a89ceedb\"}}];\n",
       "    root.Bokeh.embed.embed_items_notebook(docs_json, render_items);\n",
       "  }\n",
       "  if (root.Bokeh !== undefined && root.Bokeh.Panel !== undefined) {\n",
       "    embed_document(root);\n",
       "  } else {\n",
       "    var attempts = 0;\n",
       "    var timer = setInterval(function(root) {\n",
       "      if (root.Bokeh !== undefined && root.Bokeh.Panel !== undefined) {\n",
       "        clearInterval(timer);\n",
       "        embed_document(root);\n",
       "      } else if (document.readyState == \"complete\") {\n",
       "        attempts++;\n",
       "        if (attempts > 200) {\n",
       "          clearInterval(timer);\n",
       "          console.log(\"Bokeh: ERROR: Unable to run BokehJS code because BokehJS library is missing\");\n",
       "        }\n",
       "      }\n",
       "    }, 25, root)\n",
       "  }\n",
       "})(window);</script>"
      ],
      "text/plain": [
       ":BoxWhisker   [month]   (amount)"
      ]
     },
     "execution_count": 47,
     "metadata": {
      "application/vnd.holoviews_exec.v0+json": {
       "id": "2875"
      }
     },
     "output_type": "execute_result"
    }
   ],
   "source": [
    "# Creating the six box plots using hvPlot\n",
    "cardholder_id_25.hvplot.box(title = 'Card Holder 25 Transactions January to June 2018', y = 'amount', by = 'month', height = 400)"
   ]
  },
  {
   "cell_type": "markdown",
   "metadata": {},
   "source": [
    "####  Conclusion to Data Analysis Question 2\n",
    "Are there any outliers for cardholder ID 25? How many outliers are there per month?\n",
    "\n",
    "Yes, after visualization of the data, we see that there are some transactions that significantly differ from Card Holder 25 usual spending every month apart from February. This can be broken down as follows:\n",
    "|Month        |Number of Outliers|\n",
    "|:------------|:-----------------|\n",
    "|January      |1                 |\n",
    "|February     |0                 |\n",
    "|March        |1                 |\n",
    "|April        |3                 |\n",
    "|May          |1                 |\n",
    "|June         |3                 |\n",
    "\n",
    "\n",
    "From this, we can conclude that there is a high likelihood of fraudlent activity on Card Holder 25's corporate credit card."
   ]
  },
  {
   "cell_type": "code",
   "execution_count": null,
   "metadata": {},
   "outputs": [],
   "source": []
  },
  {
   "cell_type": "code",
   "execution_count": null,
   "metadata": {},
   "outputs": [],
   "source": []
  }
 ],
 "metadata": {
  "file_extension": ".py",
  "kernelspec": {
   "display_name": "Python 3 (ipykernel)",
   "language": "python",
   "name": "python3"
  },
  "language_info": {
   "codemirror_mode": {
    "name": "ipython",
    "version": 3
   },
   "file_extension": ".py",
   "mimetype": "text/x-python",
   "name": "python",
   "nbconvert_exporter": "python",
   "pygments_lexer": "ipython3",
   "version": "3.8.13"
  },
  "mimetype": "text/x-python",
  "name": "python",
  "npconvert_exporter": "python",
  "pygments_lexer": "ipython3",
  "version": 3,
  "widgets": {
   "application/vnd.jupyter.widget-state+json": {
    "state": {},
    "version_major": 2,
    "version_minor": 0
   }
  }
 },
 "nbformat": 4,
 "nbformat_minor": 4
}
